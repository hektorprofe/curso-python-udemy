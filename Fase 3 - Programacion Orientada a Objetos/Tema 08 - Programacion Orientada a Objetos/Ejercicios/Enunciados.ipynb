{
 "cells": [
  {
   "cell_type": "markdown",
   "metadata": {},
   "source": [
    "# Tema 08 - Programacion Orientada a Objetos (Enunciados)\n",
    "*Nota: Estos ejercicios son optativos para hacer al final de la unidad y están pensados para apoyar tu aprendizaje*."
   ]
  },
  {
   "cell_type": "markdown",
   "metadata": {},
   "source": [
    "**En este ejercicio vas a trabajar el concepto de puntos, coordenadas y vectores sobre el plano cartesiano y cómo la programación Orientada a Objetos puede ser una excelente aliada para trabajar con ellos. No está pensado para que hagas ningún tipo de cálculo sino para que practiques la automatización de tareas.**\n",
    "\n",
    "*Nota: Creo que es un ejemplo muy interesante, punto de partida en la programación de gráficos, pero si consideras que esto no lo tuyo puedes simplemente pasar de largo. Ahora bien, debes ser consciente de que te vas a perder uno de los ejercicios más interesantes del curso.*\n",
    "\n",
    "**Antes de continuar voy a explicar brevemente los conceptos básicos por si alguien necesita un repaso.**\n",
    "\n",
    "## El plano cartesiano\n",
    "\n",
    "Representa un espacio bidimensional (en 2 dimensiones), formado por dos rectas perpendiculares, una horizontal y otra vertical que se cortan en un punto. La recta horizontal se denomina eje de las abscisas o **eje X**, mientras que la vertical recibe el nombre de eje de las ordenadas o simplemente **eje Y**. En cuanto al punto donde se cortan, se conoce como el **punto de origen O**.\n",
    "\n",
    "![](./images/eje.jpg)\n",
    "\n",
    "Es importante remarcar que el plano se divide en 4 cuadrantes:\n",
    "\n",
    "![](./images/cuadrante.jpg)\n",
    "\n",
    "## Puntos y coordenadas\n",
    "\n",
    "El objetivo de todo esto es describir la posición de **puntos** sobre el plano en forma de **coordenadas**, que se forman asociando el valor del eje de las X (horizontal) con el valor del eje Y (vertical).\n",
    "\n",
    "La representación de un punto es sencilla: **P(X,Y)** dónde X y la Y son la distancia horizontal (izquierda o derecha) y vertical (arriba o abajo) respectivamente, utilizando como referencia el punto de origen (0,0), justo en el centro del plano.\n",
    "\n",
    "![](./images/Cartesian-coordinate-system.svg.png)\n",
    "\n",
    "\n",
    "## Vectores en el plano\n",
    "\n",
    "Finalmente, un vector en el plano hace referencia a un segmento orientado, generado a partir de dos puntos distintos. \n",
    "\n",
    "A efectos prácticos no deja de ser una línea formada desde un punto inicial en dirección a otro punto final, por lo que se entiende que un vector tiene longitud y dirección/sentido.\n",
    "\n",
    "![](./images/vector3.png)\n",
    "\n",
    "En esta figura, podemos observar dos puntos A y B que podríamos definir de la siguiente forma:\n",
    "* **A(x1, y1)** => **A(2, 3)**\n",
    "* **B(x2, y2)** => **B(5, 5)**\n",
    "\n",
    "Y el vector se representaría como la diferencia entre las coordendas del segundo punto respecto al primero (el segundo menos el primero):\n",
    "* **AB = (x2-x1, y2-y1)** => **(5-2, 5-3)** => **(3,2)** \n",
    "\n",
    "Lo que en definitiva no deja de ser: 3 a la derecha y 2 arriba.\n",
    "\n",
    "Y con esto finalizamos este mini repaso."
   ]
  },
  {
   "cell_type": "markdown",
   "metadata": {},
   "source": [
    "# El ejercicio\n",
    "\n",
    "#### Preparación\n",
    "\n",
    "* Crea una clase llamada **Punto** con sus dos coordenadas X e Y.\n",
    "* Añade un método **constructor** para crear puntos fácilmente. Si no se reciben una coordenada, su valor será cero.\n",
    "* Sobreescribe el método **string**, para que al imprimir por pantalla un punto aparezca en formato (X,Y)\n",
    "* Añade un método llamado **cuadrante** que indique a qué cuadrante pertenece el punto, o si es el origen.\n",
    "* Añade un método llamado **vector**, que tome otro punto y calcule el vector resultante entre los dos puntos.\n",
    "* (Optativo) Añade un método llamado **distancia**, que tome otro punto y calcule la distancia entre los dos puntos y la muestre por pantalla. La fórmula es la siguiente:\n",
    "\n",
    "![](./images/distancia.png)\n",
    "\n",
    "*Nota: La función raíz cuadrada en Python sqrt() se debe importar del módulo math y utilizarla de la siguiente forma:*\n",
    "```python\n",
    "import math\n",
    "math.sqrt(9)\n",
    "> 3.0\n",
    "```\n",
    "\n",
    "* Crea una clase llamada **Rectangulo** con dos puntos (inicial y final) que formarán la diagonal del rectángulo.\n",
    "* Añade un método **constructor** para crear ambos puntos fácilmente, si no se envían se crearán dos puntos en el origen por defecto.\n",
    "* Añade al rectángulo un método llamado **base** que muestre la base.\n",
    "* Añade al rectángulo un método llamado **altura** que muestre la altura.\n",
    "* Añade al rectángulo un método llamado **area** que muestre el area.\n",
    "\n",
    "*Puedes identificar fácilmente estos valores si intentas dibujar el cuadrado a partir de su  diagonal. Si andas perdido, prueba de dibujarlo en un papel, ¡seguro que lo verás mucho más claro! Además recuerda que puedes utilizar la función **abs()** para saber el valor absolute de un número.*\n",
    "\n",
    "#### Experimentación\n",
    "* Crea los puntos A(2, 3),  B(5,5), C(-3, -1) y D(0,0) e imprimelos por pantalla.\n",
    "* Consulta a que cuadrante pertenecen el punto A, C y D.\n",
    "* Consulta los vectores AB y BA.\n",
    "* (Optativo) Consulta la distancia entre los puntos 'A y B' y 'B y A'. \n",
    "* (Optativo) Determina cual de los 3 puntos A, B o C, se encuentra más lejos del origen, punto (0,0). \n",
    "* Crea un rectángulo utilizando los puntos A y B.\n",
    "* Consulta la base, altura y área del rectángulo."
   ]
  },
  {
   "cell_type": "code",
   "execution_count": 8,
   "metadata": {},
   "outputs": [],
   "source": [
    "# Completa el ejercicio aquí\n",
    "\n"
   ]
  }
 ],
 "metadata": {
  "anaconda-cloud": {},
  "kernelspec": {
   "display_name": "Python 3",
   "language": "python",
   "name": "python3"
  },
  "language_info": {
   "codemirror_mode": {
    "name": "ipython",
    "version": 3
   },
   "file_extension": ".py",
   "mimetype": "text/x-python",
   "name": "python",
   "nbconvert_exporter": "python",
   "pygments_lexer": "ipython3",
   "version": "3.7.1"
  }
 },
 "nbformat": 4,
 "nbformat_minor": 1
}
