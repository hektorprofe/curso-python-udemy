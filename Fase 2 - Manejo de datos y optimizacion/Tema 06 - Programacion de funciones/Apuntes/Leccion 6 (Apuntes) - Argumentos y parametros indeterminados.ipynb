{
 "cells": [
  {
   "cell_type": "markdown",
   "metadata": {},
   "source": [
    "# Argumentos y parámetros indeterminados\n",
    "Quizá en alguna ocasión no sabemos de antemano cuantos elementos vamos a enviar a una función. En estos casos podemos utilizar los parámetros indeterminados por posición y por nombre.\n",
    "\n",
    "## Por posición\n",
    "Para recibir un número indeterminado de parámetros por posición, debemos crear una lista dinámica de argumentos (una tupla en realidad):"
   ]
  },
  {
   "cell_type": "code",
   "execution_count": 2,
   "metadata": {
    "collapsed": false
   },
   "outputs": [
    {
     "name": "stdout",
     "output_type": "stream",
     "text": [
      "5\n",
      "Hola\n",
      "[1, 2, 3, 4, 5]\n"
     ]
    }
   ],
   "source": [
    "def indeterminados_posicion(*args):\n",
    "    for arg in args:\n",
    "        print(arg)\n",
    "    \n",
    "indeterminados_posicion(5,\"Hola\",[1,2,3,4,5])"
   ]
  },
  {
   "cell_type": "markdown",
   "metadata": {},
   "source": [
    "## Por nombre\n",
    "Para recibir un número indeterminado de parámetros por nombre (clave-valor), debemos crear un diccionario dinámico de argumentos:"
   ]
  },
  {
   "cell_type": "code",
   "execution_count": 3,
   "metadata": {
    "collapsed": false
   },
   "outputs": [
    {
     "name": "stdout",
     "output_type": "stream",
     "text": [
      "{'n': 5, 'c': 'Hola', 'l': [1, 2, 3, 4, 5]}\n"
     ]
    }
   ],
   "source": [
    "def indeterminados_nombre(**kwargs):\n",
    "    print(kwargs)\n",
    "indeterminados_nombre(n=5,c=\"Hola\",l=[1,2,3,4,5])    "
   ]
  },
  {
   "cell_type": "code",
   "execution_count": 4,
   "metadata": {
    "collapsed": false
   },
   "outputs": [
    {
     "name": "stdout",
     "output_type": "stream",
     "text": [
      "n\n",
      "c\n",
      "l\n"
     ]
    }
   ],
   "source": [
    "def indeterminados_nombre(**kwargs):\n",
    "    for kwarg in kwargs:\n",
    "        print(kwarg)\n",
    "indeterminados_nombre(n=5,c=\"Hola\",l=[1,2,3,4,5])   "
   ]
  },
  {
   "cell_type": "code",
   "execution_count": 5,
   "metadata": {
    "collapsed": false
   },
   "outputs": [
    {
     "name": "stdout",
     "output_type": "stream",
     "text": [
      "n   5\n",
      "c   Hola\n",
      "l   [1, 2, 3, 4, 5]\n"
     ]
    }
   ],
   "source": [
    "def indeterminados_nombre(**kwargs):\n",
    "    for kwarg in kwargs:\n",
    "        print(kwarg,\" \", kwargs[kwarg])\n",
    "indeterminados_nombre(n=5,c=\"Hola\",l=[1,2,3,4,5])   "
   ]
  },
  {
   "cell_type": "markdown",
   "metadata": {},
   "source": [
    "## Por posición y nombre a la vez\n",
    "Si queremos aceptar ambos tipos de parámetros simultáneamente, entonces debemos crear ambas colecciones dinámicas:"
   ]
  },
  {
   "cell_type": "code",
   "execution_count": 7,
   "metadata": {
    "collapsed": false
   },
   "outputs": [
    {
     "name": "stdout",
     "output_type": "stream",
     "text": [
      "Sumatorio indeterinado es 390.56\n",
      "nombre   Hector\n",
      "edad   27\n"
     ]
    }
   ],
   "source": [
    "def super_funcion(*args,**kwargs):\n",
    "    t = 0\n",
    "    for arg in args:\n",
    "        t+=arg\n",
    "    print(\"Sumatorio indeterminado es\",t)\n",
    "    for kwarg in kwargs:\n",
    "        print(kwarg,\" \", kwargs[kwarg])\n",
    "\n",
    "super_funcion(10,50,-1,1.56,10,20,300,nombre=\"Hector\",edad=27)"
   ]
  }
 ],
 "metadata": {
  "kernelspec": {
   "display_name": "Python 3",
   "language": "python",
   "name": "python3"
  },
  "language_info": {
   "codemirror_mode": {
    "name": "ipython",
    "version": 3
   },
   "file_extension": ".py",
   "mimetype": "text/x-python",
   "name": "python",
   "nbconvert_exporter": "python",
   "pygments_lexer": "ipython3",
   "version": "3.5.1"
  }
 },
 "nbformat": 4,
 "nbformat_minor": 0
}
