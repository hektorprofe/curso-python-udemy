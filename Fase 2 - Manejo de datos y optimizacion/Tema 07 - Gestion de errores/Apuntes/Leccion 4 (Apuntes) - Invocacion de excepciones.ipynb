{
 "cells": [
  {
   "cell_type": "markdown",
   "metadata": {},
   "source": [
    "# Invocación de excepciones\n",
    "En algunas ocasiones quizá nos interesa llamar un error manualmente, ya que un *print* común no es muy elegante:"
   ]
  },
  {
   "cell_type": "code",
   "execution_count": 1,
   "metadata": {
    "collapsed": true
   },
   "outputs": [],
   "source": [
    "def mi_funcion(algo=None):\n",
    "    if algo is None:\n",
    "        print(\"Error! No se permite un valor nulo (con un print)\")\n",
    "        \n",
    "mi_funcion(\"algo\")"
   ]
  },
  {
   "cell_type": "code",
   "execution_count": 2,
   "metadata": {},
   "outputs": [
    {
     "name": "stdout",
     "output_type": "stream",
     "text": [
      "Error! No se permite un valor nulo (con un print)\n"
     ]
    }
   ],
   "source": [
    "mi_funcion()"
   ]
  },
  {
   "cell_type": "markdown",
   "metadata": {},
   "source": [
    "### La instrucción raise\n",
    "Gracias a raise podemos lanzar un error manual pasándole el identificador. Luego simplemente podemos añadir un except para tratar esta excepción que hemos lanzado:"
   ]
  },
  {
   "cell_type": "code",
   "execution_count": 3,
   "metadata": {},
   "outputs": [
    {
     "name": "stdout",
     "output_type": "stream",
     "text": [
      "Error! No se permite un valor nulo (desde la excepción)\n"
     ]
    }
   ],
   "source": [
    "def mi_funcion(algo=None):\n",
    "    try:\n",
    "        if algo is None:\n",
    "            raise ValueError(\"Error! No se permite un valor nulo\")\n",
    "            print(\"hola\") #Después de invocar el error las líneas posteriores no se ejecutan\n",
    "    except ValueError:\n",
    "        print(\"Error! No se permite un valor nulo (desde la excepción)\")\n",
    "mi_funcion()"
   ]
  },
  {
   "cell_type": "code",
   "execution_count": null,
   "metadata": {},
   "outputs": [],
   "source": []
  }
 ],
 "metadata": {
  "kernelspec": {
   "display_name": "Python 3",
   "language": "python",
   "name": "python3"
  },
  "language_info": {
   "codemirror_mode": {
    "name": "ipython",
    "version": 3
   },
   "file_extension": ".py",
   "mimetype": "text/x-python",
   "name": "python",
   "nbconvert_exporter": "python",
   "pygments_lexer": "ipython3",
   "version": "3.7.4"
  }
 },
 "nbformat": 4,
 "nbformat_minor": 1
}
