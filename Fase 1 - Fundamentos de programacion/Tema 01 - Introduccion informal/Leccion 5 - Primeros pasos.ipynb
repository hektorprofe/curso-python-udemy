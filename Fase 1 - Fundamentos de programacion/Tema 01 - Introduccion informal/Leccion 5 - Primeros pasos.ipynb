{
 "cells": [
  {
   "cell_type": "markdown",
   "metadata": {},
   "source": [
    "## Ejemplo de cabecera\n",
    "Intenta deducir qué hace este programa (no hace falta que le des muchas vueltas)."
   ]
  },
  {
   "cell_type": "code",
   "execution_count": null,
   "metadata": {
    "collapsed": true
   },
   "outputs": [],
   "source": [
    "n = 0\n",
    "while n < 10:  # while = mientras\n",
    "    if (n % 2) == 0: # if = si (de condicion)\n",
    "        print(n,'es un número par')\n",
    "    else:  # else = sino (def condicion)\n",
    "        print(n,'es un número impar')\n",
    "    n = n + 1"
   ]
  }
 ],
 "metadata": {
  "kernelspec": {
   "display_name": "Python 3",
   "language": "python",
   "name": "python3"
  },
  "language_info": {
   "codemirror_mode": {
    "name": "ipython",
    "version": 3
   },
   "file_extension": ".py",
   "mimetype": "text/x-python",
   "name": "python",
   "nbconvert_exporter": "python",
   "pygments_lexer": "ipython3",
   "version": "3.5.1"
  }
 },
 "nbformat": 4,
 "nbformat_minor": 0
}
