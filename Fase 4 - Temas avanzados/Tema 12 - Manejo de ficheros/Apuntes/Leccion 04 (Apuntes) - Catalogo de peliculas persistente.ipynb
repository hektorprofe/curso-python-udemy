{
 "cells": [
  {
   "cell_type": "markdown",
   "metadata": {},
   "source": [
    "# Práctica\n",
    "## Catálogo de películas con ficheros y pickle"
   ]
  },
  {
   "cell_type": "code",
   "execution_count": 11,
   "metadata": {
    "collapsed": true
   },
   "outputs": [],
   "source": [
    "from io import open\n",
    "import pickle\n",
    "\n",
    "class Pelicula:\n",
    "    \n",
    "    # Constructor de clase\n",
    "    def __init__(self, titulo, duracion, lanzamiento):\n",
    "        self.titulo = titulo\n",
    "        self.duracion = duracion\n",
    "        self.lanzamiento = lanzamiento\n",
    "        print('Se ha creado la película:',self.titulo)\n",
    "        \n",
    "    def __str__(self):\n",
    "        return '{} ({})'.format(self.titulo, self.lanzamiento)\n",
    "\n",
    "\n",
    "class Catalogo:\n",
    "    \n",
    "    peliculas = []\n",
    "    \n",
    "    # Constructor de clase\n",
    "    def __init__(self):\n",
    "        self.cargar()\n",
    "        \n",
    "    def agregar(self,p):\n",
    "        self.peliculas.append(p)\n",
    "        self.guardar()\n",
    "        \n",
    "    def mostrar(self):\n",
    "        if len(self.peliculas) == 0:\n",
    "            print(\"El catálogo está vacío\")\n",
    "            return\n",
    "        for p in self.peliculas:\n",
    "            print(p)\n",
    "            \n",
    "    def cargar(self):\n",
    "        fichero = open('catalogo.pckl', 'ab+')\n",
    "        fichero.seek(0)\n",
    "        try:\n",
    "            self.peliculas = pickle.load(fichero)\n",
    "        except:\n",
    "            print(\"El fichero está vacío\")\n",
    "        finally:\n",
    "            fichero.close()\n",
    "            del(fichero)\n",
    "            print(\"Se han cargado {} películas\".format( len(self.peliculas) ))\n",
    "    \n",
    "    def guardar(self):\n",
    "        fichero = open('catalogo.pckl', 'wb')\n",
    "        pickle.dump(self.peliculas, fichero)\n",
    "        fichero.close()\n",
    "        del(fichero)\n",
    "    \n",
    "    # Destructor de clase\n",
    "    def __del__(self):\n",
    "        self.guardar()  # guardado automático\n",
    "        print(\"Se ha guardado el fichero\")"
   ]
  },
  {
   "cell_type": "markdown",
   "metadata": {},
   "source": [
    "## Creando un objeto catálogo"
   ]
  },
  {
   "cell_type": "code",
   "execution_count": 5,
   "metadata": {
    "collapsed": false
   },
   "outputs": [
    {
     "name": "stdout",
     "output_type": "stream",
     "text": [
      "El fichero está vacío\n",
      "Se han cargado 0 películas\n"
     ]
    }
   ],
   "source": [
    "c = Catalogo()"
   ]
  },
  {
   "cell_type": "code",
   "execution_count": 6,
   "metadata": {
    "collapsed": false
   },
   "outputs": [
    {
     "name": "stdout",
     "output_type": "stream",
     "text": [
      "El catálogo está vacío\n"
     ]
    }
   ],
   "source": [
    "c.mostrar()"
   ]
  },
  {
   "cell_type": "code",
   "execution_count": 7,
   "metadata": {
    "collapsed": false
   },
   "outputs": [
    {
     "name": "stdout",
     "output_type": "stream",
     "text": [
      "Se ha creado la película: El Padrino\n"
     ]
    }
   ],
   "source": [
    "c.agregar( Pelicula(\"El Padrino\", 175, 1972) )"
   ]
  },
  {
   "cell_type": "code",
   "execution_count": 8,
   "metadata": {
    "collapsed": false
   },
   "outputs": [
    {
     "name": "stdout",
     "output_type": "stream",
     "text": [
      "Se ha creado la película: El Padrino: Parte 2\n"
     ]
    }
   ],
   "source": [
    "c.agregar( Pelicula(\"El Padrino: Parte 2\", 202, 1974) )"
   ]
  },
  {
   "cell_type": "code",
   "execution_count": 9,
   "metadata": {
    "collapsed": false
   },
   "outputs": [
    {
     "name": "stdout",
     "output_type": "stream",
     "text": [
      "El Padrino (1972)\n",
      "El Padrino: Parte 2 (1974)\n"
     ]
    }
   ],
   "source": [
    "c.mostrar()"
   ]
  },
  {
   "cell_type": "code",
   "execution_count": 10,
   "metadata": {
    "collapsed": true
   },
   "outputs": [],
   "source": [
    "del(c)"
   ]
  },
  {
   "cell_type": "markdown",
   "metadata": {},
   "source": [
    "## Recuperando el catálogo al crearlo de nuevo"
   ]
  },
  {
   "cell_type": "code",
   "execution_count": 12,
   "metadata": {
    "collapsed": false
   },
   "outputs": [
    {
     "name": "stdout",
     "output_type": "stream",
     "text": [
      "Se han cargado 2 películas\n"
     ]
    }
   ],
   "source": [
    "c = Catalogo()"
   ]
  },
  {
   "cell_type": "code",
   "execution_count": 13,
   "metadata": {
    "collapsed": false
   },
   "outputs": [
    {
     "name": "stdout",
     "output_type": "stream",
     "text": [
      "El Padrino (1972)\n",
      "El Padrino: Parte 2 (1974)\n"
     ]
    }
   ],
   "source": [
    "c.mostrar()"
   ]
  },
  {
   "cell_type": "code",
   "execution_count": 14,
   "metadata": {
    "collapsed": false
   },
   "outputs": [
    {
     "name": "stdout",
     "output_type": "stream",
     "text": [
      "Se ha guardado el fichero\n"
     ]
    }
   ],
   "source": [
    "del(c)"
   ]
  },
  {
   "cell_type": "code",
   "execution_count": 15,
   "metadata": {
    "collapsed": false
   },
   "outputs": [
    {
     "name": "stdout",
     "output_type": "stream",
     "text": [
      "Se han cargado 2 películas\n"
     ]
    }
   ],
   "source": [
    "c = Catalogo()"
   ]
  },
  {
   "cell_type": "code",
   "execution_count": 16,
   "metadata": {
    "collapsed": false
   },
   "outputs": [
    {
     "name": "stdout",
     "output_type": "stream",
     "text": [
      "Se ha creado la película: Prueba\n"
     ]
    }
   ],
   "source": [
    "c.agregar( Pelicula(\"Prueba\", 100, 2005) )"
   ]
  },
  {
   "cell_type": "code",
   "execution_count": 17,
   "metadata": {
    "collapsed": false
   },
   "outputs": [
    {
     "name": "stdout",
     "output_type": "stream",
     "text": [
      "El Padrino (1972)\n",
      "El Padrino: Parte 2 (1974)\n",
      "Prueba (2005)\n"
     ]
    }
   ],
   "source": [
    "c.mostrar()"
   ]
  },
  {
   "cell_type": "code",
   "execution_count": 18,
   "metadata": {
    "collapsed": false
   },
   "outputs": [
    {
     "name": "stdout",
     "output_type": "stream",
     "text": [
      "Se ha guardado el fichero\n"
     ]
    }
   ],
   "source": [
    "del(c)"
   ]
  },
  {
   "cell_type": "code",
   "execution_count": 19,
   "metadata": {
    "collapsed": false
   },
   "outputs": [
    {
     "name": "stdout",
     "output_type": "stream",
     "text": [
      "Se han cargado 3 películas\n"
     ]
    }
   ],
   "source": [
    "c = Catalogo()"
   ]
  },
  {
   "cell_type": "code",
   "execution_count": 20,
   "metadata": {
    "collapsed": false
   },
   "outputs": [
    {
     "name": "stdout",
     "output_type": "stream",
     "text": [
      "El Padrino (1972)\n",
      "El Padrino: Parte 2 (1974)\n",
      "Prueba (2005)\n"
     ]
    }
   ],
   "source": [
    "c.mostrar()"
   ]
  },
  {
   "cell_type": "markdown",
   "metadata": {
    "collapsed": true
   },
   "source": [
    "## Conclusiones\n",
    "- Trabajamos en memoria, no en el fichero\n",
    "- Nosotros decidimos cuando escribir los datos:\n",
    "   1. Al manipular un registro\n",
    "   2. Al finalizar el programa"
   ]
  }
 ],
 "metadata": {
  "kernelspec": {
   "display_name": "Python 3",
   "language": "python",
   "name": "python3"
  },
  "language_info": {
   "codemirror_mode": {
    "name": "ipython",
    "version": 3
   },
   "file_extension": ".py",
   "mimetype": "text/x-python",
   "name": "python",
   "nbconvert_exporter": "python",
   "pygments_lexer": "ipython3",
   "version": "3.5.1"
  }
 },
 "nbformat": 4,
 "nbformat_minor": 0
}
