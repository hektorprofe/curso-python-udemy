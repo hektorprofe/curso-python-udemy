{
 "cells": [
  {
   "cell_type": "markdown",
   "metadata": {},
   "source": [
    "# Tema 12: Manejo de ficheros (Enunciados)\n",
    "*Estos ejercicios son optativos para hacer al final de la unidad y están pensados para apoyar tu aprendizaje*.\n",
    "## *NOTA IMPORTANTE*\n",
    "Todos los ejercicios de ficheros deberás realizarlos en **scripts** creados en el mismo directorio donde vayas a crear los ficheros de datos tal como se te indicará en los ejercicios."
   ]
  },
  {
   "cell_type": "markdown",
   "metadata": {},
   "source": [
    "**1) En este ejercicio deberás crear un script llamado personas.py que lea los datos de un fichero de texto, que transforme cada fila en un diccionario y lo añada a una lista llamada personas. Luego rocorre las personas de la lista y para cada una muestra de forma amigable todos sus campos.**\n",
    "\n",
    "El fichero de texto se denominará **personas.txt** y tendrá el siguiente contenido en texto plano (créalo previamente):\n",
    "\n",
    "```\n",
    "1;Carlos;Pérez;05/01/1989\n",
    "2;Manuel;Heredia;26/12/1973\n",
    "3;Rosa;Campos;12/06/1961\n",
    "4;David;García;25/07/2006\n",
    "```\n",
    "\n",
    "Los campos del diccionario serán por orden: **id**, **nombre**, **apellido** y **nacimiento**.\n",
    "\n",
    "**Aviso importante**: *Si quieres leer un fichero que no se ha escrito directamente con Python, entonces es posible que encuentres errores de codificación al mostrar algunos caracteres. Asegúrate de indicar la codificación del fichero manualmente durante la apertura como argumento en el **open**, por ejemplo con UTF-8:*\n",
    "\n",
    "```python\n",
    "open(..., encoding=\"utf8\")\n",
    "```"
   ]
  },
  {
   "cell_type": "markdown",
   "metadata": {
    "collapsed": true
   },
   "source": [
    "**2) En este ejercicio deberás crear un script llamado contador.py que realice varias tareas sobre un fichero llamado contador.txt que almacenará un contador de visitas (será un número):**\n",
    "* Nuestro script trabajará sobre un fichero  **contador.txt**. Comprobaremos si el fichero no existe o está vacío, en ese caso lo crearemos con el número 0. Si existe simplemente leeremos el valor del contador.\n",
    "* Luego a partir de un argumento:\n",
    "  * Si se envía el argumento **inc**, se incrementará el contador en uno y se mostrará por pantalla.\n",
    "  * Si se envía el argumento **dec**, se decrementará el contador en uno y se mostrará por pantalla.\n",
    "  * Si no se envía ningún argumento (o algo que no sea inc o dec), se mostrará el valor del contador por pantalla.\n",
    "* Finalmente guardará de nuevo el valor del contador de nuevo en el fichero.\n",
    "* Utiliza excepciones si crees que es necesario, puedes mostrar el mensaje: **Error: Fichero corrupto.**"
   ]
  },
  {
   "cell_type": "markdown",
   "metadata": {
    "collapsed": true
   },
   "source": [
    "**3) Utilizando como base el ejercicio de los personajes que hicimos, en este ejercicio tendrás que crear un gestor de personajes (gestor.py) para añadir y borrar la información de los siguientes personajes:**\n",
    "\n",
    "|           | Vida | Ataque | Defensa | Alcance |\n",
    "|-----------|------|--------|---------|---------|\n",
    "| Caballero | 4    | 2      | 4       | 2       |\n",
    "| Guerrero  | 2    | 4      | 2       | 4       |\n",
    "| Arquero   | 2    | 4      | 1       | 8       |\n",
    "\n",
    "**Deberás hacer uso del módulo pickle y todos los cambios que realices se irán guardando en un fichero binario personajes.pckl, por lo que aunque cerremos el programa los datos persistirán.**\n",
    "\n",
    "* Crea dos clases, una **Personaje** y otra **Gestor**.\n",
    "* La clase **Personaje** deberá permitir crear un personaje con el nombre (que será la clase), y sus propiedades de vida, ataque, defensa y alcance (que deben ser números enteros ~~positivos mayor que cero obligatoriamente~~).**\n",
    "* Por otro lado la clase **Gestor** deberá incorporar todos los métodos necesarios para **añadir personajes, mostrarlos y borrarlos (a partir de su nombre por ejemplo)** (tendrás que pensar una forma de hacerlo), además de los métodos esenciales para guardar los cambios en el fichero personajes.pckl que se deberían ejecutar automáticamente. \n",
    "* En caso de que el personaje ya exista en el Gestor entonces no se creará.\n",
    "\n",
    "** Una vez lo tengas listo realiza las siguientes prueba en tu código: **\n",
    "* Crea los tres personajes de la tabla anterior y añádelos al Gestor.\n",
    "* Muestra los personajes del Gestor.\n",
    "* Borra al Arquero.\n",
    "* Muestra de nuevo el Gestor.\n",
    "  \n",
    "*Sugerencias: El ejemplo con pickle que realizamos puede servirte como base.*"
   ]
  },
  {
   "cell_type": "code",
   "execution_count": null,
   "metadata": {
    "collapsed": true
   },
   "outputs": [],
   "source": []
  }
 ],
 "metadata": {
  "anaconda-cloud": {},
  "kernelspec": {
   "display_name": "Python [default]",
   "language": "python",
   "name": "python3"
  },
  "language_info": {
   "codemirror_mode": {
    "name": "ipython",
    "version": 3
   },
   "file_extension": ".py",
   "mimetype": "text/x-python",
   "name": "python",
   "nbconvert_exporter": "python",
   "pygments_lexer": "ipython3",
   "version": "3.5.2"
  }
 },
 "nbformat": 4,
 "nbformat_minor": 0
}
