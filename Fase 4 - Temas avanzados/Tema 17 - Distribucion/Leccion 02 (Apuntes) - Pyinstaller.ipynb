{
 "cells": [
  {
   "cell_type": "markdown",
   "metadata": {},
   "source": [
    "# Pyinstaller"
   ]
  },
  {
   "cell_type": "markdown",
   "metadata": {
    "collapsed": true
   },
   "source": [
    "Ya hemos visto como distribuir nuestros paquetes... ¿Pero y si creamos una aplicación y queremos generar un ejecutable para utilizarla? Bueno, en este caso puede ser bastante complicado dependiendo de las dependencias que utilice el programa. \n",
    "\n",
    "Por suerte hay un módulo que nos ayudará mucho a generar ejecutables porque automatiza el proceso, ese es **pyinstaller**.\n",
    "\n",
    "Lo que hace es generar un .EXE en Windows, un .DMG en MAC o el ejecutable que utilice el sistema operativo. Dentro del ejecutable se incluye el propio intérprete de Python, y por esa razón podremos utilizarlo en cualquier ordenador sin necesidad de instalar Python previamente."
   ]
  },
  {
   "cell_type": "markdown",
   "metadata": {},
   "source": [
    "## Instalación\n",
    "La instalación es muy fácil:\n",
    "```\n",
    "pip install pyinstaller\n",
    "```\n",
    "No hay más."
   ]
  },
  {
   "cell_type": "markdown",
   "metadata": {},
   "source": [
    "## Primer ejecutable\n",
    "Comencemos con algo simple, tenemos un script **hola.py**:\n",
    "```python\n",
    "print(\"Hola mundo!\")\n",
    "```\n",
    "Y queremos crear un ejecutable a partir de él, pues haríamos lo siguiente:\n",
    "```\n",
    "pyinstaller hola.py\n",
    "```\n",
    "Una vez acabe el proceso se nos habrán creado varias carpetas. La que nos interesa es **dist**, y dentro encontraremos una carpeta con el nombre programa y en esta un montón de ficheros y el ejecutable, en mi caso como estoy en Windows es **hola.exe**.\n",
    "\n",
    "Como es un programa para terminal, para ejecutarlo tengo que abrir la terminal en ese directorio y ejecutar el programa manualmente:\n",
    "\n",
    "```\n",
    "C:\\Users\\Hector\\Desktop\\hola\\dist\\hola>hola.exe\n",
    "Hola mundo!\n",
    "```"
   ]
  },
  {
   "cell_type": "markdown",
   "metadata": {},
   "source": [
    "## Ejecutable con interfaz\n",
    "\n",
    "Ahora vamos a hacer otro a partir de un simple programa con Tkinter, la librería de componentes integrada en Python que ya conocemos. Nos debería funcionar sin problemas:\n",
    "\n",
    "```python\n",
    "from tkinter import *\n",
    "root = Tk()\n",
    "Label(text='Hola mundo').pack(pady=10)\n",
    "root.mainloop()\n",
    "```\n",
    "Suponiendo que lo hemos puesto en el mismo script:\n",
    "\n",
    "```\n",
    "pyinstaller hola.py\n",
    "```\n",
    "En esta ocasión si ejecutamos el programa con doble clic nos funcionará bien, el problema es que se muestra la terminal de fondo.\n",
    "\n",
    "Para que desaparezca tenemos que indicar que es una aplicación en ventana, y eso lo hacemos de la siguiente forma al crear el ejecutable:\n",
    "\n",
    "```\n",
    "pyinstaller --windowed hola.py\n",
    "```"
   ]
  },
  {
   "cell_type": "markdown",
   "metadata": {},
   "source": [
    "## Ejecutable en un fichero\n",
    "Ya véis que por defecto Pyinstaller crea un directorio con un montón de ficheros. Podemos utilizar un comando para generar un solo fichero ejecutable que lo contenga todo, pero este ocupara bastante más:\n",
    "\n",
    "```\n",
    "pyinstaller --windowed --onefile hola.py\n",
    "```"
   ]
  },
  {
   "cell_type": "markdown",
   "metadata": {},
   "source": [
    "## Cambiar el icono\n",
    "También podemos cambiar el icono por defecto del ejecutable. Para ello necesitamos una imagen en formato .ico.\n",
    "\n",
    "```\n",
    "pyinstaller --windowed --onefile --icon=./hola.ico hola.py\n",
    "```\n",
    "Si no tenéis uno, podéis utilizar este para probar: http://www.iconarchive.com/download/i3532/artua/star-wars/Darth-Vader.ico\n",
    "\n",
    "Si por algo no os cambia el icono, probad cambiando el nombre del ejecutable. A veces el caché de Windows puede ignorar estas cosas."
   ]
  },
  {
   "cell_type": "markdown",
   "metadata": {},
   "source": [
    "# Limitaciones\n",
    "El gran problema con Pyinstaller como os decía al principio son las dependencias. \n",
    "\n",
    "Si nuestro programa utiliza únicamente módulos de la librería estándard no tendremos ningún problema, pero si queremos utilizar módulos externos es posible que no funcione... A no ser que sea alguno de los soportados como PyQT, django, pandas, matpotlib... pero requieren una configuraciones extra.\n",
    "\n",
    "Si queréis saber más os dejo este enlace con los paquetes soportados:\n",
    "https://github.com/pyinstaller/pyinstaller/wiki/Supported-Packages\n",
    "\n",
    "Personalmente nunca he hecho nada avanzado, pero si queréis hacerlo y no lo conseguís, os podéis poner en contacto conmigo y estaré encantado de ayudaros.\n"
   ]
  },
  {
   "cell_type": "markdown",
   "metadata": {},
   "source": [
    "Y con esto llegamos al final... por ahora ;-)"
   ]
  }
 ],
 "metadata": {
  "kernelspec": {
   "display_name": "Python [default]",
   "language": "python",
   "name": "python3"
  },
  "language_info": {
   "codemirror_mode": {
    "name": "ipython",
    "version": 3
   },
   "file_extension": ".py",
   "mimetype": "text/x-python",
   "name": "python",
   "nbconvert_exporter": "python",
   "pygments_lexer": "ipython3",
   "version": "3.5.2"
  }
 },
 "nbformat": 4,
 "nbformat_minor": 1
}
