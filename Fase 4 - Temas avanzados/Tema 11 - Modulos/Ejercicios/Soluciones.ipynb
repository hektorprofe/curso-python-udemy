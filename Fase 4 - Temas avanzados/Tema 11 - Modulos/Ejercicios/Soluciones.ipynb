{
 "cells": [
  {
   "cell_type": "markdown",
   "metadata": {},
   "source": [
    "# Tema 11: Módulos (Soluciones)\n",
    "*Nota: Estos ejercicios son optativos para hacer al final de la unidad y están pensados para apoyar tu aprendizaje*."
   ]
  },
  {
   "cell_type": "markdown",
   "metadata": {},
   "source": [
    "**1) Crea el siguiente módulo:**\n",
    "* El módulo se denominará **operaciones** y contendrá 4 funciones para realizar una **suma**, una **resta**, un **producto** y una **division** entres dos números. Todas ellas devolverán el resultado.\n",
    "* En las funciones del módulo deberá de haber tratamiento e invocación manual de errores para evitar que se quede bloqueada una funcionalidad, eso incluye:\n",
    "   * *TypeError*: En caso de que se envíen valores a las funciones que no sean números. Además deberá aparecer un mensaje que informe \"Error: Tipo de dato no válido\".\n",
    "   * *ZeroDivisionError*: En caso de realizar una división por cero. Además deberá aparecer un mensaje que informe \"Error: No es posible dividir entre cero\"."
   ]
  },
  {
   "cell_type": "markdown",
   "metadata": {},
   "source": [
    "**Una vez creado el módulo, crea un script calculos.py en el mismo directorio en el que deberás importar el módulo y realizar las siguientes instrucciones. Observa si el comportamiento es el esperado:**\n",
    "\n",
    "```python\n",
    "from operaciones import * \n",
    "\n",
    "a, b, c, d = (10, 5, 0, \"Hola\")\n",
    "\n",
    "print( \"{} + {} = {}\".format(a, b, suma(a, b) ) )\n",
    "print( \"{} - {} = {}\".format(b, d, resta(b, d) ) )\n",
    "print( \"{} * {} = {}\".format(b, b, producto(b, b) ) ) \n",
    "print( \"{} / {} = {}\".format(a, c, division(a, c) ) )\n",
    "```"
   ]
  },
  {
   "cell_type": "markdown",
   "metadata": {},
   "source": [
    "### operaciones.py\n",
    "```python\n",
    "def suma(a,b):\n",
    "    try:\n",
    "        r = a + b\n",
    "    except TypeError:\n",
    "        print(\"Error: Tipo de dato no válido\")\n",
    "    else:\n",
    "        return r\n",
    "\n",
    "\n",
    "def resta(a,b):\n",
    "    try:\n",
    "        r = a - b\n",
    "    except TypeError:\n",
    "        print(\"Error: Tipo de dato no válido\")\n",
    "    else:\n",
    "        return r\n",
    "\n",
    "\n",
    "def producto(a,b):\n",
    "    try:\n",
    "        r = a * b\n",
    "    except TypeError:\n",
    "        print(\"Error: Tipo de dato no válido\")\n",
    "    else:\n",
    "        return r\n",
    "\n",
    "\n",
    "def division(a,b):\n",
    "    try:\n",
    "        r = a / b\n",
    "    except TypeError:\n",
    "        print(\"Error: Tipo de dato no válido\")\n",
    "    except ZeroDivisionError:\n",
    "        print(\"Error: No es posible dividir entre cero\")\n",
    "    else:\n",
    "        return r\n",
    "```"
   ]
  },
  {
   "cell_type": "markdown",
   "metadata": {
    "collapsed": false
   },
   "source": [
    "### calculos.py"
   ]
  },
  {
   "cell_type": "code",
   "execution_count": 2,
   "metadata": {
    "collapsed": false
   },
   "outputs": [
    {
     "name": "stdout",
     "output_type": "stream",
     "text": [
      "10 + 5 = 15\n",
      "Error: Tipo de dato no válido\n",
      "5 - Hola = None\n",
      "5 * 5 = 25\n",
      "Error: No es posible dividir entre cero\n",
      "10 / 0 = None\n"
     ]
    }
   ],
   "source": [
    "from operaciones import * \n",
    "\n",
    "a, b, c, d = (10, 5, 0, \"Hola\")\n",
    "\n",
    "print( \"{} + {} = {}\".format(a, b, suma(a, b) ) )\n",
    "print( \"{} - {} = {}\".format(b, d, resta(b, d) ) )\n",
    "print( \"{} * {} = {}\".format(b, b, producto(b, b) ) ) \n",
    "print( \"{} / {} = {}\".format(a, c, division(a, c) ) )"
   ]
  },
  {
   "cell_type": "markdown",
   "metadata": {},
   "source": [
    "**2) ¿Eres capaz de desarrollar un reloj de horas, minutos y segundos utilizando el módulo datetime con la hora actual? Hazlo en un script llamado reloj.py y ejecútalo en la terminal.**\n",
    "\n",
    "*Ayudas: El módulo **time** integra una función llamada **sleep(segundos)** que puede pausar la ejecución de un programa durante un tiempo. Así mismo el módulo **os** integra la función **system('cls')** y **system('clear')** para limpiar la pantalla de la terminal en sistemas Windows y Linux/Unix respecticamente.*"
   ]
  },
  {
   "cell_type": "markdown",
   "metadata": {},
   "source": [
    "### reloj.py\n",
    "```python\n",
    "import datetime\n",
    "import time\n",
    "import os\n",
    "\n",
    "while(True):\n",
    "\tos.system('cls')  # Limpiamos la pantalla\n",
    "\tdt = datetime.datetime.now()\n",
    "\tprint( \"{}:{}:{}\".format( dt.hour, dt.minute, dt.second ) )\n",
    "\ttime.sleep(1)  # Esperar 1 segundo\n",
    "```"
   ]
  },
  {
   "cell_type": "markdown",
   "metadata": {},
   "source": [
    "**3) Crea un script llamado generador.py que cumpla las siguientes necesidades:**\n",
    "\n",
    "* Debe incluir una función llamada **leer_numero()**. Esta función tomará 3 valores: **ini**, **fin** y **mensaje**. El objetivo es leer por pantalla un número >= que ini y <= que fin. Además a la hora de hacer la lectura se mostrará en el input el **mensaje** enviado a la función. Finalmente se devolverá el valor. Esta función tiene que devolver un número, y tiene que repetirse hasta que el usuario no lo escriba bien (lo que incluye cualquier valor que no sea un número del ini al fin).\n",
    "* Una vez la tengas creada, deberás crear una nueva función llamada generador, no recibirá ningún parámetro. Dentro leerás dos números con la función **leer_numero()**:\n",
    "  * El primer numero será llamado **numeros**, deberá ser entre 1 y 20, ambos incluidos, y se mostrará el mensaje **¿Cuantos números quieres generar? [1-20]:**\n",
    "  * El segundo número será llamado **modo** y requerirá un número entre 1 y 3, ambos incluidos. El mensaje que mostrará será: **¿Cómo quieres redondear los números? [1]Al alza [2]A la baja [3]Normal: **.\n",
    "* Una vez sepas los números a generar y cómo redondearlos, tendrás que realizar lo siguiente:\n",
    "  * Generarás una lista de **números aleatorios decimales** entre 0 y 100 con tantos números como el usuario haya indicado. \n",
    "  * A cada uno de esos 100 números deberás redondearlos en función de lo que el usuario ha especificado en el modo.\n",
    "  * Para cada número muestra durante el redondeo, el número normal y después del redondeo.\n",
    "* Finalmente devolverás la lista de números redondeados.\n",
    "\n",
    "** El objetivo de este ejercicio es practicar la reutilización de código y los módulos random y math.**\n",
    "\n",
    "*Nota: Recuerda que el redondeo tradicional round() no requiere ningún módulo.*"
   ]
  },
  {
   "cell_type": "markdown",
   "metadata": {
    "collapsed": false
   },
   "source": [
    "### generador.py"
   ]
  },
  {
   "cell_type": "code",
   "execution_count": 12,
   "metadata": {
    "collapsed": false
   },
   "outputs": [
    {
     "name": "stdout",
     "output_type": "stream",
     "text": [
      "¿Cuantos números quieres generar? [1-20]: 10\n",
      "¿Cómo quieres redondear los números? [1]Al alza [2]A la baja [3]Normal: 3\n",
      "51.66610298393511 => 52\n",
      "14.973082044487331 => 15\n",
      "94.3282398833624 => 94\n",
      "38.66307742306034 => 39\n",
      "62.6740877833471 => 63\n",
      "31.652519261323828 => 32\n",
      "71.73756569490445 => 72\n",
      "68.9959674989237 => 69\n",
      "83.22516964165754 => 83\n",
      "0.14433853347224324 => 0\n"
     ]
    },
    {
     "data": {
      "text/plain": [
       "[52, 15, 94, 39, 63, 32, 72, 69, 83, 0]"
      ]
     },
     "execution_count": 12,
     "metadata": {},
     "output_type": "execute_result"
    }
   ],
   "source": [
    "import random\n",
    "import math\n",
    "\n",
    "# Completa el código aquí\n",
    "\n",
    "def leer_numero(ini,fin,mensaje):\n",
    "    while True:\n",
    "        try:\n",
    "            valor = int( input(mensaje) )\n",
    "        except:\n",
    "            pass\n",
    "        else:\n",
    "            if valor >= ini and valor <= fin:\n",
    "                break\n",
    "    return valor\n",
    "\n",
    "def generador():\n",
    "    numeros = leer_numero(1,20,\"¿Cuantos números quieres generar? [1-20]: \")\n",
    "    modo = leer_numero(1,3,\"¿Cómo quieres redondear los números? [1]Al alza [2]A la baja [3]Normal: \")\n",
    "    \n",
    "    lista = []\n",
    "    \n",
    "    for i in range(numeros):\n",
    "        numero = random.uniform(0,101)\n",
    "        if modo == 1:\n",
    "            print(\"{} => {}\".format(numero, math.ceil(numero)) )\n",
    "            numero = math.ceil(numero)\n",
    "        elif modo == 2:\n",
    "            print(\"{} => {}\".format(numero, math.floor(numero)) )\n",
    "            numero = math.floor(numero)\n",
    "        elif modo == 3:\n",
    "            print(\"{} => {}\".format(numero, round(numero)) )\n",
    "            numero = round(numero)     \n",
    "        lista.append(numero)\n",
    "        \n",
    "    return lista\n",
    "\n",
    "generador()"
   ]
  }
 ],
 "metadata": {
  "anaconda-cloud": {},
  "kernelspec": {
   "display_name": "Python [default]",
   "language": "python",
   "name": "python3"
  },
  "language_info": {
   "codemirror_mode": {
    "name": "ipython",
    "version": 3
   },
   "file_extension": ".py",
   "mimetype": "text/x-python",
   "name": "python",
   "nbconvert_exporter": "python",
   "pygments_lexer": "ipython3",
   "version": "3.5.2"
  }
 },
 "nbformat": 4,
 "nbformat_minor": 0
}
