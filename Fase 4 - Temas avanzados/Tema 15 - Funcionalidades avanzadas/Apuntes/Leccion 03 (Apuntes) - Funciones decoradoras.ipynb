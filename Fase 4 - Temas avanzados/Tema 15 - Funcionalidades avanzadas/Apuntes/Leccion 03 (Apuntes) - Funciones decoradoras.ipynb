{
 "cells": [
  {
   "cell_type": "markdown",
   "metadata": {},
   "source": [
    "# Ámbitos y funciones decoradoras"
   ]
  },
  {
   "cell_type": "markdown",
   "metadata": {},
   "source": [
    "#### NOTA: Antes de realizar esta lección debes reiniciar Jupyter Notebook para vaciar la memoria.\n",
    "\n",
    "## Introducción\n",
    "No cabe duda de que Python es un lenguaje flexible, y cuando trabajamos con funciones no es una excepción.\n",
    "\n",
    "En Python, dentro de una función podemos definir otras funciones. Con la peculiaridad de que el ámbito de estas funciones se encuentre únicamente dentro de la función padre. Vamos a trabajar los ámbitos un poco más en profundidad:"
   ]
  },
  {
   "cell_type": "code",
   "execution_count": 1,
   "metadata": {},
   "outputs": [],
   "source": [
    "def hola():\n",
    "    \n",
    "    def bienvenido():\n",
    "        return \"Hola!\"\n",
    "    \n",
    "    return bienvenido"
   ]
  },
  {
   "cell_type": "markdown",
   "metadata": {},
   "source": [
    "Si intentamos llamar a la función bienvenido..."
   ]
  },
  {
   "cell_type": "code",
   "execution_count": 2,
   "metadata": {},
   "outputs": [
    {
     "ename": "NameError",
     "evalue": "name 'bienvenido' is not defined",
     "output_type": "error",
     "traceback": [
      "\u001b[1;31m---------------------------------------------------------------------------\u001b[0m",
      "\u001b[1;31mNameError\u001b[0m                                 Traceback (most recent call last)",
      "\u001b[1;32m<ipython-input-2-ea36fecb9306>\u001b[0m in \u001b[0;36m<module>\u001b[1;34m\u001b[0m\n\u001b[1;32m----> 1\u001b[1;33m \u001b[0mbienvenido\u001b[0m\u001b[1;33m(\u001b[0m\u001b[1;33m)\u001b[0m\u001b[1;33m\u001b[0m\u001b[1;33m\u001b[0m\u001b[0m\n\u001b[0m",
      "\u001b[1;31mNameError\u001b[0m: name 'bienvenido' is not defined"
     ]
    }
   ],
   "source": [
    "bienvenido()"
   ]
  },
  {
   "cell_type": "markdown",
   "metadata": {},
   "source": [
    "Como vemos nos da un error de que no existe. En cambio si intentamos ejecutar la función **hola()**:"
   ]
  },
  {
   "cell_type": "code",
   "execution_count": 3,
   "metadata": {},
   "outputs": [
    {
     "data": {
      "text/plain": [
       "<function __main__.hola.<locals>.bienvenido()>"
      ]
     },
     "execution_count": 3,
     "metadata": {},
     "output_type": "execute_result"
    }
   ],
   "source": [
    "hola()"
   ]
  },
  {
   "cell_type": "markdown",
   "metadata": {},
   "source": [
    "Se devuelve la función bienvenido, y podemos apreciar dentro de su definición que existe un espacio llamado **locals**, el cual hace referencia al ámbito local que abarca la función.\n",
    "\n",
    "### Ámbito local y global\n",
    "Si utilizamos una función reservada **locals()** obtendremos un diccionario con todas las definiciones dentro del espacio local del bloque en el que estamos:"
   ]
  },
  {
   "cell_type": "code",
   "execution_count": 4,
   "metadata": {},
   "outputs": [
    {
     "name": "stdout",
     "output_type": "stream",
     "text": [
      "{'bienvenido': <function hola.<locals>.bienvenido at 0x000001663E9193A8>}\n"
     ]
    }
   ],
   "source": [
    "def hola():\n",
    "    \n",
    "    def bienvenido():\n",
    "        return \"Hola!\"\n",
    "    \n",
    "    print( locals() )  # Mostramos el ámbito local\n",
    "\n",
    "hola()"
   ]
  },
  {
   "cell_type": "markdown",
   "metadata": {},
   "source": [
    "Como vemos se nos muestra un diccionario, aquí encontraremos la función **bienvenido()**.\n",
    "\n",
    "Podríamos añadir algo más:"
   ]
  },
  {
   "cell_type": "code",
   "execution_count": null,
   "metadata": {
    "scrolled": true
   },
   "outputs": [],
   "source": [
    "lista = [1,2,3]\n",
    "\n",
    "def hola():\n",
    "    \n",
    "    numero = 50\n",
    "    \n",
    "    def bienvenido():\n",
    "        return \"Hola!\"\n",
    "    \n",
    "    print( locals() )  # Mostramos el ámbito local\n",
    "\n",
    "hola()"
   ]
  },
  {
   "cell_type": "markdown",
   "metadata": {},
   "source": [
    "Como podemos observar, ahora además de la función tenemos una clave con el número y el valor 50. Sin embargo no encontramos la lista, pues esta se encuentra fuera del ámbito local. De hecho se encuentra en el ámbito global, el cual podemos mostrar con la función reservada **globals()**:"
   ]
  },
  {
   "cell_type": "code",
   "execution_count": 5,
   "metadata": {},
   "outputs": [
    {
     "name": "stdout",
     "output_type": "stream",
     "text": [
      "{'__name__': '__main__', '__doc__': 'Automatically created module for IPython interactive environment', '__package__': None, '__loader__': None, '__spec__': None, '__builtin__': <module 'builtins' (built-in)>, '__builtins__': <module 'builtins' (built-in)>, '_ih': ['', 'def hola():\\n    \\n    def bienvenido():\\n        return \"Hola!\"\\n    \\n    return bienvenido', 'bienvenido()', 'hola()', 'def hola():\\n    \\n    def bienvenido():\\n        return \"Hola!\"\\n    \\n    print( locals() )  # Mostramos el ámbito local\\n\\nhola()', '# Antes de ejecutar este bloque reinicia el Notebook para vaciar la memoria.\\nlista = [1,2,3]\\n\\ndef hola():\\n    \\n    numero = 50\\n    \\n    def bienvenido():\\n        return \"Hola!\"\\n    \\n    print( globals() )  # Mostramos el ámbito global\\n\\nhola()'], '_oh': {3: <function hola.<locals>.bienvenido at 0x000001663E9B5DC8>}, '_dh': ['C:\\\\Users\\\\Isra\\\\CursoPython\\\\Fase 4 - Temas avanzados\\\\Tema 15 - Funcionalidades avanzadas\\\\Apuntes'], 'In': ['', 'def hola():\\n    \\n    def bienvenido():\\n        return \"Hola!\"\\n    \\n    return bienvenido', 'bienvenido()', 'hola()', 'def hola():\\n    \\n    def bienvenido():\\n        return \"Hola!\"\\n    \\n    print( locals() )  # Mostramos el ámbito local\\n\\nhola()', '# Antes de ejecutar este bloque reinicia el Notebook para vaciar la memoria.\\nlista = [1,2,3]\\n\\ndef hola():\\n    \\n    numero = 50\\n    \\n    def bienvenido():\\n        return \"Hola!\"\\n    \\n    print( globals() )  # Mostramos el ámbito global\\n\\nhola()'], 'Out': {3: <function hola.<locals>.bienvenido at 0x000001663E9B5DC8>}, 'get_ipython': <bound method InteractiveShell.get_ipython of <ipykernel.zmqshell.ZMQInteractiveShell object at 0x000001663E68D888>>, 'exit': <IPython.core.autocall.ZMQExitAutocall object at 0x000001663E7CBF08>, 'quit': <IPython.core.autocall.ZMQExitAutocall object at 0x000001663E7CBF08>, '_': <function hola.<locals>.bienvenido at 0x000001663E9B5DC8>, '__': '', '___': '', '_i': 'def hola():\\n    \\n    def bienvenido():\\n        return \"Hola!\"\\n    \\n    print( locals() )  # Mostramos el ámbito local\\n\\nhola()', '_ii': 'hola()', '_iii': 'bienvenido()', '_i1': 'def hola():\\n    \\n    def bienvenido():\\n        return \"Hola!\"\\n    \\n    return bienvenido', 'hola': <function hola at 0x000001663E9B5AF8>, '_i2': 'bienvenido()', '_i3': 'hola()', '_3': <function hola.<locals>.bienvenido at 0x000001663E9B5DC8>, '_i4': 'def hola():\\n    \\n    def bienvenido():\\n        return \"Hola!\"\\n    \\n    print( locals() )  # Mostramos el ámbito local\\n\\nhola()', '_i5': '# Antes de ejecutar este bloque reinicia el Notebook para vaciar la memoria.\\nlista = [1,2,3]\\n\\ndef hola():\\n    \\n    numero = 50\\n    \\n    def bienvenido():\\n        return \"Hola!\"\\n    \\n    print( globals() )  # Mostramos el ámbito global\\n\\nhola()', 'lista': [1, 2, 3]}\n"
     ]
    }
   ],
   "source": [
    "# Antes de ejecutar este bloque reinicia el Notebook para vaciar la memoria.\n",
    "lista = [1,2,3]\n",
    "\n",
    "def hola():\n",
    "    \n",
    "    numero = 50\n",
    "    \n",
    "    def bienvenido():\n",
    "        return \"Hola!\"\n",
    "    \n",
    "    print( globals() )  # Mostramos el ámbito global\n",
    "\n",
    "hola()"
   ]
  },
  {
   "cell_type": "markdown",
   "metadata": {},
   "source": [
    "Tampoco es necesario que nos paremos a analizar el contenido, pero como podemos observar, desde el ámbito global tenemos acceso a muchas más definiciones porque engloba a su vez todas las de sus bloques padres. \n",
    "\n",
    "Si mostramos únicamente las claves del diccionario **globals()**, quizá sería más entendible:"
   ]
  },
  {
   "cell_type": "code",
   "execution_count": null,
   "metadata": {},
   "outputs": [],
   "source": [
    "globals().keys()"
   ]
  },
  {
   "cell_type": "markdown",
   "metadata": {},
   "source": [
    "Ahora si buscamos bien encontraremos la clave **lista**, la cual hace referencia a la variable declarada fuera de la función. Incluso podríamos acceder a ella como si fuera un diccionario normal:"
   ]
  },
  {
   "cell_type": "code",
   "execution_count": null,
   "metadata": {},
   "outputs": [],
   "source": [
    "globals()['lista']  # Desde la función globals"
   ]
  },
  {
   "cell_type": "code",
   "execution_count": null,
   "metadata": {},
   "outputs": [],
   "source": [
    "lista  # Forma tradicional"
   ]
  },
  {
   "cell_type": "markdown",
   "metadata": {},
   "source": [
    "## Funciones como variables\n",
    "Volviendo a nuestra función **hola()**, ahora sabemos que si la ejecutamos, en realidad estamos accediendo a su función local  **bienvenido()**, pero eso no significa que la ejecutamos, sólo estamos haciendo referencia a ella.\n",
    "\n",
    "Esa es la razón de que se devuelva su definición y no el resultado de su ejecución:"
   ]
  },
  {
   "cell_type": "code",
   "execution_count": 6,
   "metadata": {},
   "outputs": [
    {
     "data": {
      "text/plain": [
       "<function __main__.hola.<locals>.bienvenido()>"
      ]
     },
     "execution_count": 6,
     "metadata": {},
     "output_type": "execute_result"
    }
   ],
   "source": [
    "def hola():\n",
    "    \n",
    "    def bienvenido():\n",
    "        return \"Hola!\"\n",
    "    \n",
    "    return bienvenido\n",
    "\n",
    "hola()"
   ]
  },
  {
   "cell_type": "markdown",
   "metadata": {},
   "source": [
    "Por muy raro que parezca, podríamos ejecutarla llamando una segunda vez al paréntesis. La primera para **hola()** y la segunda para **bienvenido()**:"
   ]
  },
  {
   "cell_type": "code",
   "execution_count": 7,
   "metadata": {},
   "outputs": [
    {
     "data": {
      "text/plain": [
       "'Hola!'"
      ]
     },
     "execution_count": 7,
     "metadata": {},
     "output_type": "execute_result"
    }
   ],
   "source": [
    "hola()()"
   ]
  },
  {
   "cell_type": "markdown",
   "metadata": {},
   "source": [
    "Como es realmente extraño, normalmente lo que hacemos es asignar la función a una variable y ejecutarla como si fuera una nueva función:"
   ]
  },
  {
   "cell_type": "code",
   "execution_count": 8,
   "metadata": {},
   "outputs": [
    {
     "data": {
      "text/plain": [
       "'Hola!'"
      ]
     },
     "execution_count": 8,
     "metadata": {},
     "output_type": "execute_result"
    }
   ],
   "source": [
    "bienvenido = hola()\n",
    "bienvenido()"
   ]
  },
  {
   "cell_type": "markdown",
   "metadata": {},
   "source": [
    "A diferencia de las colecciones y los objetos, donde las copias se utilizaban como accesos directos, las copias de las funciones son independientes y aunque borrásemos la original, la nueva copia seguiría existiendo:"
   ]
  },
  {
   "cell_type": "code",
   "execution_count": 9,
   "metadata": {},
   "outputs": [
    {
     "data": {
      "text/plain": [
       "'Hola!'"
      ]
     },
     "execution_count": 9,
     "metadata": {},
     "output_type": "execute_result"
    }
   ],
   "source": [
    "del(hola)\n",
    "\n",
    "bienvenido()"
   ]
  },
  {
   "cell_type": "markdown",
   "metadata": {},
   "source": [
    "## Funciones como argumentos\n",
    "Si ya era extraño ejecutar funciones anidadas, todavía es más extraño el concepto de enviar una función como argumento de otra función, sin embargo gracias a la flexibilidad de Python es posible hacerlo:"
   ]
  },
  {
   "cell_type": "code",
   "execution_count": 10,
   "metadata": {},
   "outputs": [
    {
     "name": "stdout",
     "output_type": "stream",
     "text": [
      "Hola!\n"
     ]
    }
   ],
   "source": [
    "def hola():\n",
    "    return \"Hola!\"\n",
    "\n",
    "def test(funcion):\n",
    "    print( funcion() )\n",
    "    \n",
    "test(hola)"
   ]
  },
  {
   "cell_type": "markdown",
   "metadata": {},
   "source": [
    "Quizá en este momento no se ocurren muchas utilidades para esta funcionalidad, pero creedme que es realmente útil cuando queremos extender funciones ya existentes sin modificarlas. De ahí que este proceso se conozca como un decorador, y de ahí pasamos directamente a las funciones decoradoras."
   ]
  },
  {
   "cell_type": "markdown",
   "metadata": {},
   "source": [
    "## Funciones decoradoras\n",
    "Una función decoradora es una función que envuelve la ejecución de otra función y permite extender su comportamiento. Están pensadas para reutilazarlas gracias a una sintaxis de ejecución mucho más simple.\n",
    "\n",
    "Imaginaros estas dos funciones sencillas:"
   ]
  },
  {
   "cell_type": "code",
   "execution_count": 11,
   "metadata": {},
   "outputs": [],
   "source": [
    "def hola():\n",
    "    print(\"Hola!\")\n",
    "\n",
    "def adios():\n",
    "    print(\"Adiós!\")"
   ]
  },
  {
   "cell_type": "markdown",
   "metadata": {},
   "source": [
    "Y queremos queremos crear un decorador para monitorizar cuando se ejecutan las dos funciones, avisando antes y después. \n",
    "\n",
    "Para crear una función decoradora tenemos que recibir la función a ejecutar, y envolver su ejecución con el código a extender:"
   ]
  },
  {
   "cell_type": "code",
   "execution_count": 13,
   "metadata": {},
   "outputs": [],
   "source": [
    "def monitorizar(funcion):\n",
    "\n",
    "    def decorar():\n",
    "        print(\"\\t* Se está apunto de ejecutar la función:\", funcion.__name__)\n",
    "        \n",
    "        funcion()\n",
    "        \n",
    "        print(\"\\t* Se ha finalizado de ejecutar la función:\", funcion.__name__)\n",
    "\n",
    "    return decorar"
   ]
  },
  {
   "cell_type": "markdown",
   "metadata": {},
   "source": [
    "Ahora para realizar la monitorización deberíamos llamar al monitor ejecutando la función enviada y devuelta:"
   ]
  },
  {
   "cell_type": "code",
   "execution_count": 14,
   "metadata": {},
   "outputs": [
    {
     "name": "stdout",
     "output_type": "stream",
     "text": [
      "\t* Se está apunto de ejecutar la función: hola\n",
      "Hola!\n",
      "\t* Se ha finalizado de ejecutar la función: hola\n"
     ]
    }
   ],
   "source": [
    "monitorizar(hola)()"
   ]
  },
  {
   "cell_type": "markdown",
   "metadata": {},
   "source": [
    "Sin embargo esto no es muy cómodo, y ahí es cuando aparece la sintaxis que nos permite configurar una función decoradora en una función normal:"
   ]
  },
  {
   "cell_type": "code",
   "execution_count": null,
   "metadata": {},
   "outputs": [],
   "source": [
    "@monitorizar\n",
    "def hola():\n",
    "    print(\"Hola!\")\n",
    "\n",
    "@monitorizar\n",
    "def adios():\n",
    "    print(\"Adiós!\")"
   ]
  },
  {
   "cell_type": "markdown",
   "metadata": {},
   "source": [
    "Una vez configurada la función decoradora, al utilizar las funciones se ejecutarán automáticamente dentro de la función decoradora:"
   ]
  },
  {
   "cell_type": "code",
   "execution_count": 15,
   "metadata": {},
   "outputs": [
    {
     "name": "stdout",
     "output_type": "stream",
     "text": [
      "Hola!\n",
      "\n",
      "Adiós!\n"
     ]
    }
   ],
   "source": [
    "hola()\n",
    "print()\n",
    "adios()"
   ]
  },
  {
   "cell_type": "markdown",
   "metadata": {},
   "source": [
    "## Pasando argumentos al decorador"
   ]
  },
  {
   "cell_type": "code",
   "execution_count": null,
   "metadata": {},
   "outputs": [],
   "source": [
    "def monitorizar_args(funcion):\n",
    "\n",
    "    def decorar(*args,**kwargs):\n",
    "        print(\"\\t* Se está apunto de ejecutar la función:\", funcion.__name__)\n",
    "        funcion(*args,**kwargs)\n",
    "        print(\"\\t* Se ha finalizado de ejecutar la función:\", funcion.__name__)\n",
    "\n",
    "    return decorar\n",
    "\n",
    "@monitorizar_args\n",
    "def hola(nombre):\n",
    "    print(\"Hola {}!\".format(nombre))\n",
    "\n",
    "@monitorizar_args\n",
    "def adios(nombre):\n",
    "    print(\"Adiós {}!\".format(nombre))\n",
    "    \n",
    "hola(\"Héctor\")\n",
    "print()\n",
    "adios(\"Héctor\")"
   ]
  },
  {
   "cell_type": "markdown",
   "metadata": {},
   "source": [
    "**Perfecto!** Ahora ya sabes qué son las funciones decoradoras y cómo utilizar el símbolo @ para automatizar su ejecución. Estas funciones se utilizan mucho cuando trabajamos con Frameworks Web como Django, así que seguro te harán servicio si tienes pensado aprender a utilizarlo."
   ]
  },
  {
   "cell_type": "code",
   "execution_count": null,
   "metadata": {},
   "outputs": [],
   "source": []
  }
 ],
 "metadata": {
  "anaconda-cloud": {},
  "kernelspec": {
   "display_name": "Python 3",
   "language": "python",
   "name": "python3"
  },
  "language_info": {
   "codemirror_mode": {
    "name": "ipython",
    "version": 3
   },
   "file_extension": ".py",
   "mimetype": "text/x-python",
   "name": "python",
   "nbconvert_exporter": "python",
   "pygments_lexer": "ipython3",
   "version": "3.7.4"
  }
 },
 "nbformat": 4,
 "nbformat_minor": 1
}
