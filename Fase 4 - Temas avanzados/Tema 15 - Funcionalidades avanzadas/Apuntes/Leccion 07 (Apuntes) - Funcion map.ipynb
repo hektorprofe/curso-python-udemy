{
 "cells": [
  {
   "cell_type": "markdown",
   "metadata": {},
   "source": [
    "# Función map()"
   ]
  },
  {
   "cell_type": "markdown",
   "metadata": {},
   "source": [
    "Esta función trabaja de una forma similar a **filter()**, en lugar de aplicar una condición a un elemento de una lista o secuencia, devuelve un iterador de tipo map, que contiene los elementos devueltos por esa función para cada elemento."
   ]
  },
  {
   "cell_type": "code",
   "execution_count": 2,
   "metadata": {},
   "outputs": [
    {
     "data": {
      "text/plain": [
       "<map at 0x1e4fdae5b08>"
      ]
     },
     "execution_count": 2,
     "metadata": {},
     "output_type": "execute_result"
    }
   ],
   "source": [
    "def doblar(numero):\n",
    "    return numero*2\n",
    "    \n",
    "numeros = [2, 5, 10, 23, 50, 33]\n",
    "\n",
    "map(doblar, numeros)"
   ]
  },
  {
   "cell_type": "code",
   "execution_count": 3,
   "metadata": {},
   "outputs": [
    {
     "data": {
      "text/plain": [
       "4"
      ]
     },
     "execution_count": 3,
     "metadata": {},
     "output_type": "execute_result"
    }
   ],
   "source": [
    "p = map(doblar, numeros)\n",
    "next(p)"
   ]
  },
  {
   "cell_type": "markdown",
   "metadata": {},
   "source": [
    "Fácilmente podemos transformar este iterador en una lista:"
   ]
  },
  {
   "cell_type": "code",
   "execution_count": 5,
   "metadata": {},
   "outputs": [
    {
     "data": {
      "text/plain": [
       "[4, 10, 20, 46, 100, 66]"
      ]
     },
     "execution_count": 5,
     "metadata": {},
     "output_type": "execute_result"
    }
   ],
   "source": [
    "list(map(doblar, numeros))"
   ]
  },
  {
   "cell_type": "markdown",
   "metadata": {},
   "source": [
    "Y podemos simplificarlo con una función lambda para substituir la llamada de una función definida:"
   ]
  },
  {
   "cell_type": "code",
   "execution_count": 6,
   "metadata": {},
   "outputs": [
    {
     "data": {
      "text/plain": [
       "[4, 10, 20, 46, 100, 66]"
      ]
     },
     "execution_count": 6,
     "metadata": {},
     "output_type": "execute_result"
    }
   ],
   "source": [
    "list( map(lambda x: x*2, numeros) )"
   ]
  },
  {
   "cell_type": "markdown",
   "metadata": {},
   "source": [
    "La función **map()** se utiliza mucho junto a expresiones lambda ya que permite ahorrarnos el esfuerzo de crear bucles for.\n",
    "\n",
    "Además se puede utilizar sobre más de un iterable con la condición que tengan la misma longitud. \n",
    "\n",
    "Por ejemplo si queremos multiplicar los números de dos listas:"
   ]
  },
  {
   "cell_type": "code",
   "execution_count": 8,
   "metadata": {},
   "outputs": [
    {
     "data": {
      "text/plain": [
       "[6, 14, 24, 36, 50]"
      ]
     },
     "execution_count": 8,
     "metadata": {},
     "output_type": "execute_result"
    }
   ],
   "source": [
    "a = [1, 2, 3, 4, 5]\n",
    "b = [6, 7, 8, 9, 10]\n",
    "\n",
    "list( map(lambda x,y : x*y, a,b) )"
   ]
  },
  {
   "cell_type": "markdown",
   "metadata": {},
   "source": [
    "E incluso podemos extender la funcionalidad a tres listas o más:"
   ]
  },
  {
   "cell_type": "code",
   "execution_count": 12,
   "metadata": {
    "scrolled": true
   },
   "outputs": [
    {
     "data": {
      "text/plain": [
       "[66, 168, 312, 504, 750]"
      ]
     },
     "execution_count": 12,
     "metadata": {},
     "output_type": "execute_result"
    }
   ],
   "source": [
    "c = [11, 12, 13, 14, 15]\n",
    "\n",
    "list( map(lambda x,y,z : x*y*z, a,b,c) )"
   ]
  },
  {
   "cell_type": "markdown",
   "metadata": {},
   "source": [
    "Para realizar el **map** las secuencias deben tener el mismo número de elementos. Si las secuencias tienen diferentes tamaños, la función **map** se aplicará a los elementos hasta que una de las secuencias se agote, ignorandose el resto de elementos que no tienen una correlación directa con los elementos de la otra secuencia."
   ]
  },
  {
   "cell_type": "code",
   "execution_count": 9,
   "metadata": {},
   "outputs": [
    {
     "data": {
      "text/plain": [
       "[6, 14, 24, 36, 50]"
      ]
     },
     "execution_count": 9,
     "metadata": {},
     "output_type": "execute_result"
    }
   ],
   "source": [
    "a = [1, 2, 3, 4, 5, 6, 7, 8, 9]\n",
    "b = [6, 7, 8, 9, 10]\n",
    "\n",
    "list( map(lambda x,y : x*y, a,b) )"
   ]
  },
  {
   "cell_type": "markdown",
   "metadata": {},
   "source": [
    "# Mapeando objetos\n",
    "Evidentemente, siempre que la utilicemos correctamente podemos mapear una serie de objetos sin ningún problema:"
   ]
  },
  {
   "cell_type": "code",
   "execution_count": 10,
   "metadata": {},
   "outputs": [],
   "source": [
    "class Persona:\n",
    "    \n",
    "    def __init__(self, nombre, edad):\n",
    "        self.nombre = nombre\n",
    "        self.edad = edad\n",
    "        \n",
    "    def __str__(self):\n",
    "        return \"{} de {} años\".format(self.nombre, self.edad)\n",
    "\n",
    "    \n",
    "personas = [\n",
    "    Persona(\"Juan\", 35),\n",
    "    Persona(\"Marta\", 16),\n",
    "    Persona(\"Manuel\", 78),\n",
    "    Persona(\"Eduardo\", 12)\n",
    "]"
   ]
  },
  {
   "cell_type": "markdown",
   "metadata": {},
   "source": [
    "Por ejemplo una función para incrementar un año de edad a todas las personas de la lista:"
   ]
  },
  {
   "cell_type": "code",
   "execution_count": 36,
   "metadata": {},
   "outputs": [
    {
     "name": "stdout",
     "output_type": "stream",
     "text": [
      "Juan de 36 años\n",
      "Marta de 17 años\n",
      "Manuel de 79 años\n",
      "Eduardo de 13 años\n"
     ]
    }
   ],
   "source": [
    "def incrementar(p):\n",
    "    p.edad += 1\n",
    "    return p\n",
    "\n",
    "personas = map(incrementar, personas)\n",
    "\n",
    "for persona in personas:\n",
    "    print(persona)"
   ]
  },
  {
   "cell_type": "markdown",
   "metadata": {},
   "source": [
    "Si queremos usar una función **lambda** con un objeto, no se puede indicar como valor de retorno (**persona.edad += 1**) una expresión que modifica un campo del objeto:\n",
    "```python\n",
    "lambda persona: persona.edad += 1\n",
    "```\n",
    "Por lo tanto, será necesario indicar como valor de retorno un nuevo objeto de clase **Persona** con la información que deseamos modificar."
   ]
  },
  {
   "cell_type": "code",
   "execution_count": 11,
   "metadata": {},
   "outputs": [
    {
     "name": "stdout",
     "output_type": "stream",
     "text": [
      "Juan de 36 años\n",
      "Marta de 17 años\n",
      "Manuel de 79 años\n",
      "Eduardo de 13 años\n"
     ]
    }
   ],
   "source": [
    "personas = [\n",
    "    Persona(\"Juan\", 35),\n",
    "    Persona(\"Marta\", 16),\n",
    "    Persona(\"Manuel\", 78),\n",
    "    Persona(\"Eduardo\", 12)\n",
    "]\n",
    "\n",
    "personas = map(lambda persona: Persona(persona.nombre, persona.edad+1), personas)\n",
    "\n",
    "for persona in personas:\n",
    "    print(persona)"
   ]
  },
  {
   "cell_type": "markdown",
   "metadata": {},
   "source": [
    "Y con esto acabamos esta interesante funcionalidad."
   ]
  }
 ],
 "metadata": {
  "anaconda-cloud": {},
  "kernelspec": {
   "display_name": "Python 3",
   "language": "python",
   "name": "python3"
  },
  "language_info": {
   "codemirror_mode": {
    "name": "ipython",
    "version": 3
   },
   "file_extension": ".py",
   "mimetype": "text/x-python",
   "name": "python",
   "nbconvert_exporter": "python",
   "pygments_lexer": "ipython3",
   "version": "3.7.4"
  }
 },
 "nbformat": 4,
 "nbformat_minor": 1
}
