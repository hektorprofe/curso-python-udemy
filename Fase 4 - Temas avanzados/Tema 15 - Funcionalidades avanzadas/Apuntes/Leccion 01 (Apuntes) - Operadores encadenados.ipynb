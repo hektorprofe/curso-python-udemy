{
 "cells": [
  {
   "cell_type": "markdown",
   "metadata": {},
   "source": [
    "# Operadores encadenados\n",
    "Una de las pecualiaridades más interesantes de Python, y que otros lenguajes no ofrecen, es la capacidad de encadenar múltiples expresiones.\n",
    "\n",
    "Normalmente para encadenar expresiones las unimos utilizando el operador lógico **and**:"
   ]
  },
  {
   "cell_type": "code",
   "execution_count": 15,
   "metadata": {},
   "outputs": [
    {
     "data": {
      "text/plain": [
       "True"
      ]
     },
     "execution_count": 15,
     "metadata": {},
     "output_type": "execute_result"
    }
   ],
   "source": [
    "1 < 2 and 2 < 3"
   ]
  },
  {
   "cell_type": "markdown",
   "metadata": {},
   "source": [
    "La condición para poder encadenar con operadores es encontrar un punto en común entre ambas expresiones:"
   ]
  },
  {
   "cell_type": "code",
   "execution_count": 16,
   "metadata": {},
   "outputs": [
    {
     "data": {
      "text/plain": [
       "True"
      ]
     },
     "execution_count": 16,
     "metadata": {},
     "output_type": "execute_result"
    }
   ],
   "source": [
    "1 < 2 < 3"
   ]
  },
  {
   "cell_type": "markdown",
   "metadata": {},
   "source": [
    "La cual también se puede expresar de la siguiente forma:"
   ]
  },
  {
   "cell_type": "code",
   "execution_count": 29,
   "metadata": {},
   "outputs": [
    {
     "data": {
      "text/plain": [
       "True"
      ]
     },
     "execution_count": 29,
     "metadata": {},
     "output_type": "execute_result"
    }
   ],
   "source": [
    "3 > 2 > 1"
   ]
  },
  {
   "cell_type": "markdown",
   "metadata": {},
   "source": [
    "**RECORDATORIO:** Al utilizar operadores encadenados, estos se basan en comprobar el resultado de cada mínima expresión y  relacionarlos con AND. No confundir con la comparación del resultado de cada expresión con el siguiente:\n",
    "\n",
    "![](img/figura_1.png)"
   ]
  },
  {
   "cell_type": "markdown",
   "metadata": {},
   "source": [
    "### Delimitando un valor numérico\n",
    "Veamos en ejemplo mucho más útil, donde queremos comprobar si un número se encuentra entre 0 y 100 (ambos incluidos):"
   ]
  },
  {
   "cell_type": "code",
   "execution_count": 31,
   "metadata": {},
   "outputs": [
    {
     "name": "stdout",
     "output_type": "stream",
     "text": [
      "El número 35 se encuentra entre 0 y 100\n"
     ]
    }
   ],
   "source": [
    "numero = 35\n",
    "if numero >= 0 and numero <= 100:\n",
    "    print(\"El número {} se encuentra entre 0 y 100\".format(numero) )\n",
    "else:\n",
    "    print(\"El número {} no se encuentra entre 0 y 100\".format(numero) )"
   ]
  },
  {
   "cell_type": "markdown",
   "metadata": {},
   "source": [
    "Utilizando operadores encadenados podemos simplificar la sintaxis readaptando la lógica:"
   ]
  },
  {
   "cell_type": "code",
   "execution_count": 12,
   "metadata": {},
   "outputs": [
    {
     "name": "stdout",
     "output_type": "stream",
     "text": [
      "El número 35 se encuentra entre 0 y 100\n"
     ]
    }
   ],
   "source": [
    "numero = 35\n",
    "if 0 <= numero <= 100:\n",
    "    print(\"El número {} se encuentra entre 0 y 100\".format(numero) )\n",
    "else:\n",
    "    print(\"El número {} no se encuentra entre 0 y 100\".format(numero) )"
   ]
  }
 ],
 "metadata": {
  "anaconda-cloud": {},
  "kernelspec": {
   "display_name": "Python 3",
   "language": "python",
   "name": "python3"
  },
  "language_info": {
   "codemirror_mode": {
    "name": "ipython",
    "version": 3
   },
   "file_extension": ".py",
   "mimetype": "text/x-python",
   "name": "python",
   "nbconvert_exporter": "python",
   "pygments_lexer": "ipython3",
   "version": "3.7.4"
  }
 },
 "nbformat": 4,
 "nbformat_minor": 1
}
