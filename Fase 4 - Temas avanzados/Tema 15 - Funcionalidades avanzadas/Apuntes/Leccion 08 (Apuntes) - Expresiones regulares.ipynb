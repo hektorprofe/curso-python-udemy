{
 "cells": [
  {
   "cell_type": "markdown",
   "metadata": {},
   "source": [
    "# Expresiones regulares\n",
    "\n",
    "Una de las tareas más utilizadas en la programación es la búsqueda de subcadenas o patrones dentro de otras cadenas de texto.\n",
    "\n",
    "Las expresiones regulares, también conocidas como 'regex' o 'regexp', son patrones de búsqueda definidos con una sintaxis formal. Siempre que sigamos sus reglas, podremos realizar búsquedas simples y avanzadas, que utilizadas en conjunto con otras funcionalidades, las vuelven una de las opciones más útiles e importantes de cualquier lenguaje.\n",
    "\n",
    "Sin embargo antes de utilizarlas hay que estar seguros de lo que hacemos, de ahí aquella famosa frase de [Jamie Zawinski](https://es.wikipedia.org/wiki/Jamie_Zawinski), programador y hacker:\n",
    "\n",
    "> *Some people, when confronted with a problem, think \"I know, I'll use regular expressions.\" Now they have two problems.*\n",
    "\n",
    "Que viene a decir:\n",
    "\n",
    "> *Hay gente que, cuando se enfrenta a un problema, piensa \"Ya sé, usaré expresiones regulares\". Ahora tienen dos problemas.*"
   ]
  },
  {
   "cell_type": "markdown",
   "metadata": {},
   "source": [
    "## Métodos básicos\n",
    "### re.search: buscar un patrón en otra cadena"
   ]
  },
  {
   "cell_type": "code",
   "execution_count": 1,
   "metadata": {},
   "outputs": [
    {
     "data": {
      "text/plain": [
       "<re.Match object; span=(40, 46), match='mágica'>"
      ]
     },
     "execution_count": 1,
     "metadata": {},
     "output_type": "execute_result"
    }
   ],
   "source": [
    "import re\n",
    "\n",
    "texto = \"En esta cadena se encuentra una palabra mágica\"\n",
    "\n",
    "re.search('mágica', texto)"
   ]
  },
  {
   "cell_type": "markdown",
   "metadata": {},
   "source": [
    "Como vemos, al realizar la búsqueda lo que nos encontramos es un objeto de tipo *Match* (encontrado), en lugar un simple *True* o *False*.\n",
    "\n",
    "En cambio, si no se encontrase la palabra, no se devolvería nada (*None*):"
   ]
  },
  {
   "cell_type": "code",
   "execution_count": 2,
   "metadata": {},
   "outputs": [],
   "source": [
    "re.search('hola', texto)"
   ]
  },
  {
   "cell_type": "markdown",
   "metadata": {},
   "source": [
    "Por tanto, podemos utilizar la propia funcionalidad junto a un condicional sin ningún problema:"
   ]
  },
  {
   "cell_type": "code",
   "execution_count": 3,
   "metadata": {},
   "outputs": [
    {
     "name": "stdout",
     "output_type": "stream",
     "text": [
      "Se ha encontrado la palabra: mágica\n"
     ]
    }
   ],
   "source": [
    "palabra = \"mágica\"\n",
    "\n",
    "encontrado = re.search(palabra,  texto)\n",
    "\n",
    "if encontrado is not None:\n",
    "    print(\"Se ha encontrado la palabra:\", palabra)\n",
    "else:\n",
    "    print(\"No se ha encontrado la palabra:\", palabra)"
   ]
  },
  {
   "cell_type": "markdown",
   "metadata": {},
   "source": [
    "Sin embargo, volviendo al objeto devuelto de tipo *Match*, éste nos ofrece algunas opciones interesantes."
   ]
  },
  {
   "cell_type": "code",
   "execution_count": 4,
   "metadata": {},
   "outputs": [
    {
     "name": "stdout",
     "output_type": "stream",
     "text": [
      "40\n",
      "46\n",
      "(40, 46)\n",
      "En esta cadena se encuentra una palabra mágica\n"
     ]
    }
   ],
   "source": [
    "print( encontrado.start() )  # Posición donde empieza la coincidencia\n",
    "print( encontrado.end() )    # Posición donde termina la coincidencia\n",
    "print( encontrado.span() )   # Tupla con posiciones donde empieza y termina la coincidencia\n",
    "print( encontrado.string )   # Cadena sobre la que se ha realizado la búsqueda"
   ]
  },
  {
   "cell_type": "markdown",
   "metadata": {},
   "source": [
    "Como vemos, en este objeto se esconde mucha más información de la que parece a simple vista, luego seguiremos hablando de ellos."
   ]
  },
  {
   "cell_type": "markdown",
   "metadata": {},
   "source": [
    "### re.match: buscar un patrón al principio de otra cadena"
   ]
  },
  {
   "cell_type": "code",
   "execution_count": 5,
   "metadata": {},
   "outputs": [
    {
     "data": {
      "text/plain": [
       "<re.Match object; span=(0, 4), match='Hola'>"
      ]
     },
     "execution_count": 5,
     "metadata": {},
     "output_type": "execute_result"
    }
   ],
   "source": [
    "texto = \"Hola mundo\"\n",
    "re.match('Hola', texto)"
   ]
  },
  {
   "cell_type": "code",
   "execution_count": 6,
   "metadata": {},
   "outputs": [],
   "source": [
    "texto = \"Hola mundo\"\n",
    "re.match('Mola', texto)  # no devuelve nada"
   ]
  },
  {
   "cell_type": "markdown",
   "metadata": {},
   "source": [
    "### re.split: dividir una cadena a partir de un patrón"
   ]
  },
  {
   "cell_type": "code",
   "execution_count": 7,
   "metadata": {},
   "outputs": [
    {
     "data": {
      "text/plain": [
       "['Vamos', 'a', 'dividir', 'esta', 'cadena']"
      ]
     },
     "execution_count": 7,
     "metadata": {},
     "output_type": "execute_result"
    }
   ],
   "source": [
    "texto = \"Vamos a dividir esta cadena\"\n",
    "re.split(' ', texto)"
   ]
  },
  {
   "cell_type": "markdown",
   "metadata": {},
   "source": [
    "### re.sub: sustituye todas las coincidencias en una cadena"
   ]
  },
  {
   "cell_type": "code",
   "execution_count": 8,
   "metadata": {},
   "outputs": [
    {
     "data": {
      "text/plain": [
       "'Hola amiga'"
      ]
     },
     "execution_count": 8,
     "metadata": {},
     "output_type": "execute_result"
    }
   ],
   "source": [
    "texto = \"Hola amigo\"\n",
    "re.sub('amigo', 'amiga', texto)"
   ]
  },
  {
   "cell_type": "markdown",
   "metadata": {},
   "source": [
    "### re.findall: buscar todas las coincidencias en una cadena"
   ]
  },
  {
   "cell_type": "code",
   "execution_count": 9,
   "metadata": {},
   "outputs": [
    {
     "data": {
      "text/plain": [
       "['hola', 'hola', 'hola']"
      ]
     },
     "execution_count": 9,
     "metadata": {},
     "output_type": "execute_result"
    }
   ],
   "source": [
    "texto = \"hola adios hola hola\"\n",
    "re.findall('hola', texto)"
   ]
  },
  {
   "cell_type": "markdown",
   "metadata": {},
   "source": [
    "Aquí se nos devuelve una lista, pero podríamos aplicar la función *len()* para saber el número:"
   ]
  },
  {
   "cell_type": "code",
   "execution_count": 10,
   "metadata": {},
   "outputs": [
    {
     "data": {
      "text/plain": [
       "3"
      ]
     },
     "execution_count": 10,
     "metadata": {},
     "output_type": "execute_result"
    }
   ],
   "source": [
    "len(re.findall('hola', texto))"
   ]
  },
  {
   "cell_type": "markdown",
   "metadata": {},
   "source": [
    "## Patrones con múltiples alternativas\n",
    "Si queremos comprobar varias posibilidades, podemos utilizar una tubería | a modo de OR. Generalmente pondremos el listado de alternativas entre paréntesis ():"
   ]
  },
  {
   "cell_type": "code",
   "execution_count": 11,
   "metadata": {},
   "outputs": [
    {
     "data": {
      "text/plain": [
       "['hola', 'hello']"
      ]
     },
     "execution_count": 11,
     "metadata": {},
     "output_type": "execute_result"
    }
   ],
   "source": [
    "texto = \"hola adios hello bye\"\n",
    "re.findall('hola|hello', texto)"
   ]
  },
  {
   "cell_type": "markdown",
   "metadata": {},
   "source": [
    "## Patrones con sintaxis repetida\n",
    "Otra posibilidad que se nos ofrece es la de buscar patrones con letras repetidas, y aquí es donde se empieza a poner interesante. Como podemos o no saber de antemano el número de repeticiones hay varias formas de definirlos."
   ]
  },
  {
   "cell_type": "code",
   "execution_count": 12,
   "metadata": {},
   "outputs": [],
   "source": [
    "texto = \"hla hola hoola hooola hooooola\""
   ]
  },
  {
   "cell_type": "markdown",
   "metadata": {},
   "source": [
    "Antes de continuar, y para aligerar todo el proceso, vamos a crear una función capaz de ejecutar varios patrones en una lista sobre un texto:"
   ]
  },
  {
   "cell_type": "code",
   "execution_count": 13,
   "metadata": {},
   "outputs": [
    {
     "name": "stdout",
     "output_type": "stream",
     "text": [
      "['hla']\n",
      "['hola']\n",
      "['hoola']\n"
     ]
    }
   ],
   "source": [
    "def buscar(patrones, texto):\n",
    "    for patron in patrones:\n",
    "        print( re.findall(patron, texto) )\n",
    "\n",
    "patrones = ['hla', 'hola', 'hoola']\n",
    "buscar(patrones, texto)"
   ]
  },
  {
   "cell_type": "markdown",
   "metadata": {},
   "source": [
    "### Con meta-carácter *\n",
    "Lo utilizaremos para definir ninguna o más repeticiones de la letra a la izquierda del meta-carácter:"
   ]
  },
  {
   "cell_type": "code",
   "execution_count": 14,
   "metadata": {},
   "outputs": [
    {
     "name": "stdout",
     "output_type": "stream",
     "text": [
      "['ho', 'ho', 'ho', 'ho']\n",
      "['h', 'ho', 'hoo', 'hooo', 'hooooo']\n",
      "['hla', 'hola', 'hoola', 'hooola', 'hooooola']\n",
      "['hla']\n"
     ]
    }
   ],
   "source": [
    "patrones = ['ho','ho*','ho*la','hu*la']  # 'ho', 'ho[0..N]', 'ho[0..N]la', 'hu[0..N]la'\n",
    "buscar(patrones, texto)"
   ]
  },
  {
   "cell_type": "markdown",
   "metadata": {},
   "source": [
    "### Con meta-carácter +\n",
    "Lo utilizaremos para definir una o más repeticiones de la letra a la izquierda del meta-carácter:"
   ]
  },
  {
   "cell_type": "code",
   "execution_count": 15,
   "metadata": {},
   "outputs": [
    {
     "name": "stdout",
     "output_type": "stream",
     "text": [
      "['h', 'ho', 'hoo', 'hooo', 'hooooo']\n",
      "['ho', 'hoo', 'hooo', 'hooooo']\n"
     ]
    }
   ],
   "source": [
    "patrones = ['ho*', 'ho+']  # 'ho[0..N], 'ho[1..N]'\n",
    "buscar(patrones, texto)"
   ]
  },
  {
   "cell_type": "markdown",
   "metadata": {},
   "source": [
    "### Con meta-carácter ?\n",
    "Lo utilizaremos para definir una o ninguna repetición de la letra a la izquierda del meta-carácter:"
   ]
  },
  {
   "cell_type": "code",
   "execution_count": 16,
   "metadata": {},
   "outputs": [
    {
     "name": "stdout",
     "output_type": "stream",
     "text": [
      "['h', 'ho', 'hoo', 'hooo', 'hooooo']\n",
      "['ho', 'hoo', 'hooo', 'hooooo']\n",
      "['h', 'ho', 'ho', 'ho', 'ho']\n",
      "['hla', 'hola']\n"
     ]
    }
   ],
   "source": [
    "patrones = ['ho*', 'ho+', 'ho?', 'ho?la']  # 'ho[0..N], 'ho[1..N]', 'ho[0..1]', 'ho[0..1]la'\n",
    "buscar(patrones, texto)"
   ]
  },
  {
   "cell_type": "markdown",
   "metadata": {},
   "source": [
    "### Con número de repeticiones explícito {n}\n",
    "Lo utilizaremos para definir 'n' repeticiones exactas de la letra a la izquierda del meta-carácter:"
   ]
  },
  {
   "cell_type": "code",
   "execution_count": 17,
   "metadata": {},
   "outputs": [
    {
     "name": "stdout",
     "output_type": "stream",
     "text": [
      "['hla']\n",
      "['hola']\n",
      "['hoola']\n"
     ]
    }
   ],
   "source": [
    "patrones = ['ho{0}la', 'ho{1}la', 'ho{2}la']  # 'ho[0]la', 'ho[1]la', 'ho[2]la'\n",
    "buscar(patrones, texto)"
   ]
  },
  {
   "cell_type": "markdown",
   "metadata": {},
   "source": [
    "### Con número de repeticiones en un rango  {n, m}\n",
    "Lo utilizaremos para definir un número de repeticiones variable entre 'n' y 'm' de la letra a la izquierda del meta-carácter:"
   ]
  },
  {
   "cell_type": "code",
   "execution_count": 18,
   "metadata": {},
   "outputs": [
    {
     "name": "stdout",
     "output_type": "stream",
     "text": [
      "['hla', 'hola']\n",
      "['hola', 'hoola']\n",
      "['hoola', 'hooola', 'hooooola']\n"
     ]
    }
   ],
   "source": [
    "patrones = ['ho{0,1}la', 'ho{1,2}la', 'ho{2,9}la']  # 'ho[0..1]la', 'ho[1..2]la', 'ho[2..9]la'\n",
    "buscar(patrones, texto)"
   ]
  },
  {
   "cell_type": "markdown",
   "metadata": {},
   "source": [
    "## Trabajando con conjuntos de caracteres [ ]\n",
    "Cuando nos interese crear un patrón con distintos carácteres, podemos definir conjuntos entre paréntesis:"
   ]
  },
  {
   "cell_type": "code",
   "execution_count": 19,
   "metadata": {
    "scrolled": true
   },
   "outputs": [
    {
     "name": "stdout",
     "output_type": "stream",
     "text": [
      "['hola', 'hula']\n",
      "['hala', 'hila', 'hola']\n",
      "['hala', 'hela', 'hila', 'hola', 'hula']\n"
     ]
    }
   ],
   "source": [
    "texto = \"hala hela hila hola hula\"\n",
    "\n",
    "patrones = ['h[ou]la', 'h[aio]la', 'h[aeiou]la']\n",
    "buscar(patrones, texto)"
   ]
  },
  {
   "cell_type": "markdown",
   "metadata": {},
   "source": [
    "Evidentemente los podemos utilizar con repeticiones:"
   ]
  },
  {
   "cell_type": "code",
   "execution_count": 20,
   "metadata": {},
   "outputs": [
    {
     "name": "stdout",
     "output_type": "stream",
     "text": [
      "[]\n",
      "['haala', 'heeela']\n",
      "['hiiiila', 'hoooooola']\n"
     ]
    }
   ],
   "source": [
    "texto = \"haala heeela hiiiila hoooooola\"\n",
    "\n",
    "patrones = ['h[ae]la', 'h[ae]*la', 'h[io]{3,9}la']\n",
    "buscar(patrones, texto)"
   ]
  },
  {
   "cell_type": "markdown",
   "metadata": {},
   "source": [
    "### Exclusión en grupos [^ ]\n",
    "Cuando utilizamos grupos podemos utilizar el operador de exclusión ^ para indicar una búsqueda contraria:"
   ]
  },
  {
   "cell_type": "code",
   "execution_count": 24,
   "metadata": {},
   "outputs": [
    {
     "name": "stdout",
     "output_type": "stream",
     "text": [
      "['hola']\n",
      "['hola']\n",
      "['hala', 'hela', 'hila', 'hula']\n"
     ]
    }
   ],
   "source": [
    "texto = \"hala hela hila hola hula\"\n",
    "\n",
    "patrones = ['h[o]la','ho{1}la', 'h[^o]la'] \n",
    "buscar(patrones, texto)"
   ]
  },
  {
   "cell_type": "markdown",
   "metadata": {},
   "source": [
    "Si excluimos una expresión regular con un grupo excluido, en realidad tenemos lo mismo:"
   ]
  },
  {
   "cell_type": "markdown",
   "metadata": {},
   "source": [
    "### Rangos [ - ]\n",
    "Otra característica que hace ultra potentes los grupos, es la capacidad de definir rangos. Ejemplos de rangos:\n",
    "- **[A-Z]**: Cualquier carácter alfabético en mayúscula (no especial ni número)\n",
    "- **[a-z]**: Cualquier carácter alfabético en minúscula (no especial ni número)\n",
    "- **[A-Za-z]**: Cualquier carácter alfabético en minúscula o mayúscula (no especial ni número)\n",
    "- **[A-z]**: Cualquier carácter alfabético en minúscula o mayúscula (no especial ni número)\n",
    "- **[0-9]**: Cualquier carácter numérico (no especial ni alfabético)\n",
    "- **[a-zA-Z0-9]**: Cualquier carácter alfanumérico (no especial)\n",
    "\n",
    "Tened en cuenta que cualquier rango puede ser excluido para conseguir el patrón contrario."
   ]
  },
  {
   "cell_type": "code",
   "execution_count": 22,
   "metadata": {},
   "outputs": [
    {
     "name": "stdout",
     "output_type": "stream",
     "text": [
      "['hola']\n",
      "['h0la']\n",
      "['hola', 'Hola', 'mola']\n",
      "['Hola', 'M0la']\n"
     ]
    }
   ],
   "source": [
    "texto = \"hola h0la Hola mola m0la M0la\"\n",
    "\n",
    "patrones = ['h[a-z]la', 'h[0-9]la', '[A-z]{4}', '[A-Z][A-z0-9]{3}'] \n",
    "buscar(patrones, texto)"
   ]
  },
  {
   "cell_type": "markdown",
   "metadata": {},
   "source": [
    "## Códigos escapados \\\n",
    "Si cada vez que quisiéramos definir un patrón variable tuviéramos que crear rangos, al final tendríamos expresiones regulares gigantes. Por suerte su sintaxis también acepta una serie de caracteres escapados que tienen un significo único. Algunos de los más importantes son:"
   ]
  },
  {
   "cell_type": "markdown",
   "metadata": {
    "collapsed": true
   },
   "source": [
    "| Código | Significado |\n",
    "|:------:|:------------|\n",
    "|\\d|numérico|\n",
    "|\\D|no numérico|\n",
    "|\\s|espacio en blanco|\n",
    "|\\S|no espacio en blanco|\n",
    "|\\w|alfanumérico|\n",
    "|\\W|no alfanumérico|\n",
    "\n",
    "El problema que encontraremos en Python a la hora de definir código escapado, es que las cadenas no tienen en cuenta el \\ a no ser que especifiquemos que son cadenas en crudo (raw), **por lo que tendremos que preceder las expresiones regulares con una 'r'**."
   ]
  },
  {
   "cell_type": "code",
   "execution_count": 30,
   "metadata": {
    "scrolled": true
   },
   "outputs": [
    {
     "name": "stdout",
     "output_type": "stream",
     "text": [
      "['2', '0', '1', '6']\n",
      "['2016']\n",
      "['E', 's', 't', 'e', ' ', 'c', 'u', 'r', 's', 'o', ' ', 'd', 'e', ' ', 'P', 'y', 't', 'h', 'o', 'n', ' ', 's', 'e', ' ', 'p', 'u', 'b', 'l', 'i', 'c', 'ó', ' ', 'e', 'n', ' ', 'e', 'l', ' ', 'a', 'ñ', 'o', ' ']\n",
      "['Este curso de Python se publicó en el año ']\n",
      "[' ', ' ', ' ', ' ', ' ', ' ', ' ', ' ', ' ']\n",
      "['E', 's', 't', 'e', 'c', 'u', 'r', 's', 'o', 'd', 'e', 'P', 'y', 't', 'h', 'o', 'n', 's', 'e', 'p', 'u', 'b', 'l', 'i', 'c', 'ó', 'e', 'n', 'e', 'l', 'a', 'ñ', 'o', '2', '0', '1', '6']\n",
      "['Este', 'curso', 'de', 'Python', 'se', 'publicó', 'en', 'el', 'año', '2016']\n",
      "['E', 's', 't', 'e', 'c', 'u', 'r', 's', 'o', 'd', 'e', 'P', 'y', 't', 'h', 'o', 'n', 's', 'e', 'p', 'u', 'b', 'l', 'i', 'c', 'ó', 'e', 'n', 'e', 'l', 'a', 'ñ', 'o', '2', '0', '1', '6']\n",
      "['Este', 'curso', 'de', 'Python', 'se', 'publicó', 'en', 'el', 'año', '2016']\n",
      "[' ', ' ', ' ', ' ', ' ', ' ', ' ', ' ', ' ']\n"
     ]
    }
   ],
   "source": [
    "texto = \"Este curso de Python se publicó en el año 2016\"\n",
    "\n",
    "patrones = [r'\\d', r'\\d+',r'\\D', r'\\D+', r'\\s', r'\\S', r'\\S+', r'\\w', r'\\w+', r'\\W+'] \n",
    "buscar(patrones, texto)"
   ]
  },
  {
   "cell_type": "markdown",
   "metadata": {},
   "source": [
    "Por mi parte lo vamos a dejar aquí, pero el mundo de las expresiones regulares es gigantesco y daría para un curso entero. Os animo a seguir aprendiendo leyendo documentación y buscando ejemplos. \n",
    "\n",
    "Aquí os dejo algunos enlaces que quizá os pueden servir, en inglés:\n",
    "\n",
    "## Documentación\n",
    "\n",
    "Hay docenas y docenas de códigos especiales, si queréis echar un vistazo a todos ellos podéis consultar la documentación oficial:\n",
    "- https://docs.python.org/3.5/library/re.html#regular-expression-syntax\n",
    "\n",
    "Un resumen por parte de Google Eduactión: \n",
    "- https://developers.google.com/edu/python/regular-expressions\n",
    "\n",
    "Otro resumen muy interesante sobre el tema:\n",
    "- https://www.tutorialspoint.com/python/python_reg_expressions.htm\n",
    "\n",
    "Un par de documentos muy trabajados con ejemplos básicos y avanzados:\n",
    "- http://www.python-course.eu/python3_re.php\n",
    "- http://www.python-course.eu/python3_re_advanced.php"
   ]
  }
 ],
 "metadata": {
  "anaconda-cloud": {},
  "kernelspec": {
   "display_name": "Python 3",
   "language": "python",
   "name": "python3"
  },
  "language_info": {
   "codemirror_mode": {
    "name": "ipython",
    "version": 3
   },
   "file_extension": ".py",
   "mimetype": "text/x-python",
   "name": "python",
   "nbconvert_exporter": "python",
   "pygments_lexer": "ipython3",
   "version": "3.7.4"
  }
 },
 "nbformat": 4,
 "nbformat_minor": 1
}
