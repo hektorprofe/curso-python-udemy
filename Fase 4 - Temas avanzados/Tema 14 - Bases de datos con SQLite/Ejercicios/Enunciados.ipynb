{
 "cells": [
  {
   "cell_type": "markdown",
   "metadata": {},
   "source": [
    "# Tema 14: Bases de datos con SQLite (Enunciados)\n",
    "*Estos ejercicios son optativos para hacer al final de la unidad y están pensados para apoyar tu aprendizaje*.\n",
    "## *NOTA IMPORTANTE*\n",
    "Todos los ejercicios deberás realizarlos en **scripts** creados en el mismo directorio donde trabajarás con las bases de datos."
   ]
  },
  {
   "cell_type": "markdown",
   "metadata": {},
   "source": [
    "**1.1) A lo largo de estos ejercicios vamos a crear un pequeño sistema para gestionar los platos del menú de un restaurante. Por ahora debes empezar creando un script llamado restaurante.py y dentro una función crear_bd() que creará una pequeña base de datos restaurante.db con las siguientes dos tablas:**\n",
    "\n",
    "** *Si ya existen deberá tratar la excepción y mostrar que las tablas ya existen. En caso contrario mostrará que se han creado correctamente.* **\n",
    "     \n",
    "```sql\n",
    "CREATE TABLE categoria(\n",
    "\t\t\t\tid INTEGER PRIMARY KEY AUTOINCREMENT,\n",
    "\t\t\t\tnombre VARCHAR(100) UNIQUE NOT NULL)\n",
    "```\n",
    " \n",
    "```sql\n",
    "CREATE TABLE plato(\n",
    "\t\t\t\tid INTEGER PRIMARY KEY AUTOINCREMENT,\n",
    "\t\t\t\tnombre VARCHAR(100) UNIQUE NOT NULL, \n",
    "\t\t\t\tcategoria_id INTEGER NOT NULL,\n",
    "\t\t\t\tFOREIGN KEY(categoria_id) REFERENCES categoria(id))\n",
    "```\n",
    "\n",
    "**Nota:** *La línea **FOREIGN KEY(categoria_id) REFERENCES categoria(id)** indica un tipo de clave especial (foránea), por la cual se crea una relación entre la categoría de un plato con el registro de categorías.*\n",
    "\n",
    "** Llama a la función y comprueba que la base de datos se crea correctamente.**\n",
    "\n",
    "**1.2) Crea una función llamada agregar_categoria() que pida al usuario un nombre de categoría y se encargue de crear la categoría en la base de datos (ten en cuenta que si ya existe dará un error, por que el nombre es UNIQUE).**\n",
    "\n",
    "** Ahora, crea un pequeño menú de opciones dentro del script, que te de la bienvenida al sistema y te permita Crear una categoría o Salir. Añade las siguientes tres categorías utilizando este menú de opciones:**\n",
    "\n",
    "- Primeros \n",
    "- Segundos \n",
    "- Postres\n",
    " \n",
    "**1.3) Crea una función llamada agregar_plato() que muestre al usuario las categorías disponibles y le permita escoger una (escribiendo un número).**\n",
    "\n",
    "**Luego le pedirá introducir el nombre del plato y lo añadirá a la base de datos, teniendo en cuenta que la categoria del plato concuerde con el id de la categoría y que el nombre del plato no puede repetirse (no es necesario comprobar si la categoría realmente existe, en ese caso simplemente no se insertará el plato).**\n",
    "\n",
    "**Agrega la nueva opción al menú de opciones y añade los siguientes platos:**\n",
    "\n",
    "- **Primeros**: Ensalada del tiempo / Zumo de tomate\n",
    "- **Segundos**: Estofado de pescado / Pollo con patatas\n",
    "- **Postres**: Flan con nata / Fruta del tiempo\n",
    "\n",
    "**1.4) Crea una función llamada mostrar_menu() que muestre el menú con todos los platos de forma ordenada: los primeros, los segundos y los postres. Optativamente puedes adornar la forma en que muestras el menú por pantalla.**"
   ]
  },
  {
   "cell_type": "markdown",
   "metadata": {
    "collapsed": true
   },
   "source": [
    "**2) En este ejercicios debes crear una interfaz gráfica con tkinter (menu.py) que muestre de forma elegante el menú del restaurante.**\n",
    "\n",
    "- Tú eliges el nombre del restaurante y el precio del menú, así como las tipografías, colores, adornos y tamaño de la ventana.\n",
    "- El único requisito es que el programa se conectará a la base de datos para buscar la lista categorías y platos.\n",
    "- Algunas ideas: https://www.google.es/search?tbm=isch&q=dise%C3%B1o+menu+restaurantes\n",
    "\n",
    "### Ejemplo\n",
    "\n",
    "![](./images/menu.png)"
   ]
  },
  {
   "cell_type": "code",
   "execution_count": null,
   "metadata": {},
   "outputs": [],
   "source": []
  }
 ],
 "metadata": {
  "anaconda-cloud": {},
  "kernelspec": {
   "display_name": "Python 3",
   "language": "python",
   "name": "python3"
  },
  "language_info": {
   "codemirror_mode": {
    "name": "ipython",
    "version": 3
   },
   "file_extension": ".py",
   "mimetype": "text/x-python",
   "name": "python",
   "nbconvert_exporter": "python",
   "pygments_lexer": "ipython3",
   "version": "3.7.1"
  }
 },
 "nbformat": 4,
 "nbformat_minor": 1
}
