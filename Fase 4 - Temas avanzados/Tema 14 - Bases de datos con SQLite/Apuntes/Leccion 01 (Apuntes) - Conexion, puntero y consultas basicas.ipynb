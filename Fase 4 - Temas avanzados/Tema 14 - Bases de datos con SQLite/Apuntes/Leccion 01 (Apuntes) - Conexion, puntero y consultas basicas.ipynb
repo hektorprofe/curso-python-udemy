{
 "cells": [
  {
   "cell_type": "markdown",
   "metadata": {},
   "source": [
    "#### Nota: Estos ejemplos están indicados para hacerse en scripts de código Python, no en Jupyter"
   ]
  },
  {
   "cell_type": "markdown",
   "metadata": {},
   "source": [
    "## Conexión a la base de datos, creación y desconexión"
   ]
  },
  {
   "cell_type": "code",
   "execution_count": 15,
   "metadata": {
    "collapsed": false
   },
   "outputs": [],
   "source": [
    "# Importamos el módulo\n",
    "import sqlite3\n",
    "\n",
    "# Nos conectamos a la base de datos ejemplo.db (la crea si no existe)\n",
    "conexion = sqlite3.connect('ejemplo.db')\n",
    "\n",
    "# Cerramos la conexión, si no la cerramos se mantendrá en uso y no podremos gestionar el fichero\n",
    "conexion.close()"
   ]
  },
  {
   "cell_type": "markdown",
   "metadata": {},
   "source": [
    "## Creación de una tabla utilizando sintaxis SQL\n",
    "Antes de ejecutar una consulta (query) en código SQL, tenemos que crear un cursor.\n",
    "\n",
    "**Una vez creada la tabla, si intentamos volver a crearla dará error indicándonos que esta ya existe.**"
   ]
  },
  {
   "cell_type": "code",
   "execution_count": 14,
   "metadata": {
    "collapsed": false
   },
   "outputs": [
    {
     "ename": "OperationalError",
     "evalue": "table usuarios already exists",
     "output_type": "error",
     "traceback": [
      "\u001b[1;31m---------------------------------------------------------------------------\u001b[0m",
      "\u001b[1;31mOperationalError\u001b[0m                          Traceback (most recent call last)",
      "\u001b[1;32m<ipython-input-14-279f8cd3e83f>\u001b[0m in \u001b[0;36m<module>\u001b[1;34m()\u001b[0m\n\u001b[0;32m      7\u001b[0m \u001b[1;33m\u001b[0m\u001b[0m\n\u001b[0;32m      8\u001b[0m \u001b[1;31m# Ahora crearemos una tabla de usuarios para almacenar nombres, edades y emails\u001b[0m\u001b[1;33m\u001b[0m\u001b[1;33m\u001b[0m\u001b[0m\n\u001b[1;32m----> 9\u001b[1;33m \u001b[0mcursor\u001b[0m\u001b[1;33m.\u001b[0m\u001b[0mexecute\u001b[0m\u001b[1;33m(\u001b[0m\u001b[1;34m\"CREATE TABLE usuarios (nombre text, edad int, email text)\"\u001b[0m\u001b[1;33m)\u001b[0m\u001b[1;33m\u001b[0m\u001b[0m\n\u001b[0m\u001b[0;32m     10\u001b[0m \u001b[1;33m\u001b[0m\u001b[0m\n\u001b[0;32m     11\u001b[0m \u001b[1;31m# Guardamos los cambios haciendo un commit\u001b[0m\u001b[1;33m\u001b[0m\u001b[1;33m\u001b[0m\u001b[0m\n",
      "\u001b[1;31mOperationalError\u001b[0m: table usuarios already exists"
     ]
    }
   ],
   "source": [
    "import sqlite3\n",
    "\n",
    "conexion = sqlite3.connect('ejemplo.db')\n",
    "\n",
    "# Creamos el cursor\n",
    "cursor = conexion.cursor()\n",
    "\n",
    "# Ahora crearemos una tabla de usuarios para almacenar nombres, edades y emails\n",
    "cursor.execute(\"CREATE TABLE usuarios (nombre VARCHAR(100), edad INTEGER, email VARCHAR(100))\")\n",
    "\n",
    "# Guardamos los cambios haciendo un commit\n",
    "conexion.commit()\n",
    "\n",
    "conexion.close()"
   ]
  },
  {
   "cell_type": "markdown",
   "metadata": {},
   "source": [
    "## Insertando un registro"
   ]
  },
  {
   "cell_type": "code",
   "execution_count": 16,
   "metadata": {
    "collapsed": true
   },
   "outputs": [],
   "source": [
    "import sqlite3\n",
    "\n",
    "conexion = sqlite3.connect('ejemplo.db')\n",
    "cursor = conexion.cursor()\n",
    "\n",
    "# Insertamos un registro en la tabla de usuarios\n",
    "cursor.execute(\"INSERT INTO usuarios VALUES ('Hector', 27, 'hector@ejemplo.com')\")\n",
    "\n",
    "# Guardamos los cambios haciendo un commit\n",
    "conexion.commit()\n",
    "\n",
    "conexion.close()"
   ]
  },
  {
   "cell_type": "markdown",
   "metadata": {},
   "source": [
    "## Recuperando el primer registro con .fetchone()"
   ]
  },
  {
   "cell_type": "code",
   "execution_count": 20,
   "metadata": {
    "collapsed": false
   },
   "outputs": [
    {
     "name": "stdout",
     "output_type": "stream",
     "text": [
      "('Hector', 27, 'hector@ejemplo.com')\n"
     ]
    }
   ],
   "source": [
    "import sqlite3\n",
    "\n",
    "conexion = sqlite3.connect('ejemplo.db')\n",
    "cursor = conexion.cursor()\n",
    "\n",
    "# Recuperamos los registros de la tabla de usuarios\n",
    "cursor.execute(\"SELECT * FROM usuarios\")\n",
    "\n",
    "# Mostrar el cursos a ver que hay ?\n",
    "print(cursor)\n",
    "\n",
    "# Recorremos el primer registro con el método fetchone, devuelve una tupla\n",
    "usuario = cursor.fetchone()\n",
    "print(usuario)\n",
    "\n",
    "conexion.close()"
   ]
  },
  {
   "cell_type": "markdown",
   "metadata": {},
   "source": [
    "## Insertando varios registros con .executemany()"
   ]
  },
  {
   "cell_type": "code",
   "execution_count": 26,
   "metadata": {
    "collapsed": false
   },
   "outputs": [],
   "source": [
    "import sqlite3\n",
    "\n",
    "conexion = sqlite3.connect('ejemplo.db')\n",
    "cursor = conexion.cursor()\n",
    "\n",
    "# Creamos una lista con varios usuarios\n",
    "usuarios = [('Mario', 51, 'mario@ejemplo.com'),\n",
    "            ('Mercedes', 38, 'mercedes@ejemplo.com'),\n",
    "            ('Juan', 19, 'juan@ejemplo.com'),\n",
    "            ]\n",
    "\n",
    "# Ahora utilizamos el método executemany() para insertar varios\n",
    "cursor.executemany(\"INSERT INTO usuarios VALUES (?,?,?)\", usuarios)\n",
    "\n",
    "# Guardamos los cambios haciendo un commit\n",
    "conexion.commit()\n",
    "\n",
    "conexion.close()"
   ]
  },
  {
   "cell_type": "markdown",
   "metadata": {},
   "source": [
    "## Recuperando varios registros con .fetchall()"
   ]
  },
  {
   "cell_type": "code",
   "execution_count": 27,
   "metadata": {
    "collapsed": false
   },
   "outputs": [
    {
     "name": "stdout",
     "output_type": "stream",
     "text": [
      "('Hector', 27, 'hector@ejemplo.com')\n",
      "('Mario', 51, 'mario@ejemplo.com')\n",
      "('Mercedes', 38, 'mercedes@ejemplo.com')\n",
      "('Juan', 19, 'juan@ejemplo.com')\n"
     ]
    }
   ],
   "source": [
    "import sqlite3\n",
    "\n",
    "conexion = sqlite3.connect('ejemplo.db')\n",
    "cursor = conexion.cursor()\n",
    "\n",
    "# Recuperamos los registros de la tabla de usuarios\n",
    "cursor.execute(\"SELECT * FROM usuarios\")\n",
    "\n",
    "# Recorremos todos los registros con fetchall, y los volvamos en una lista de usuarios\n",
    "usuarios = cursor.fetchall()\n",
    "\n",
    "# Ahora podemos recorrer todos los usuarios\n",
    "for usuario in usuarios:\n",
    "    print(usuario)\n",
    "\n",
    "conexion.close()"
   ]
  },
  {
   "cell_type": "markdown",
   "metadata": {},
   "source": [
    "## Utilizando DB Browser\n",
    "En esta práctica vamos a analizar el contenido de nuestra base de datos utilizando un programa externo.\n",
    "\n",
    "http://sqlitebrowser.org/"
   ]
  }
 ],
 "metadata": {
  "anaconda-cloud": {},
  "kernelspec": {
   "display_name": "Python [default]",
   "language": "python",
   "name": "python3"
  },
  "language_info": {
   "codemirror_mode": {
    "name": "ipython",
    "version": 3
   },
   "file_extension": ".py",
   "mimetype": "text/x-python",
   "name": "python",
   "nbconvert_exporter": "python",
   "pygments_lexer": "ipython3",
   "version": "3.5.2"
  }
 },
 "nbformat": 4,
 "nbformat_minor": 0
}
