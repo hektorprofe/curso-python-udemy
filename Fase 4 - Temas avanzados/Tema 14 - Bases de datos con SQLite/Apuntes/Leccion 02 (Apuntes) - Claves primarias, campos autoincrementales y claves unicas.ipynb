{
 "cells": [
  {
   "cell_type": "markdown",
   "metadata": {},
   "source": [
    "#### Nota: Estos ejemplos están indicados para hacerse en scripts de código Python, no en Jupyter"
   ]
  },
  {
   "cell_type": "markdown",
   "metadata": {},
   "source": [
    "# Claves primarias\n",
    "Una clave primaria es un campo especial de una tabla que actúa como identificador único de los registros, en otras palabras, no se puede repetir un registro con la misma clave primaria. Por ejemplo dos usuarios con el mismo DNI:"
   ]
  },
  {
   "cell_type": "code",
   "execution_count": 1,
   "metadata": {
    "collapsed": false
   },
   "outputs": [],
   "source": [
    "import sqlite3\n",
    "\n",
    "conexion = sqlite3.connect('usuarios.db')\n",
    "\n",
    "cursor = conexion.cursor()\n",
    "\n",
    "# Creamos un campo dni como clave primaria\n",
    "cursor.execute('''CREATE TABLE usuarios (\n",
    "                    dni VARCHAR(9) PRIMARY KEY,\n",
    "                    nombre VARCHAR(100), \n",
    "                    edad INTEGER,\n",
    "                    email VARCHAR(100))''')\n",
    "\n",
    "usuarios = [('11111111A', 'Hector', 27, 'hector@ejemplo.com'),\n",
    "            ('22222222B', 'Mario', 51, 'mario@ejemplo.com'),\n",
    "            ('33333333C', 'Mercedes', 38, 'mercedes@ejemplo.com'),\n",
    "            ('44444444D', 'Juan', 19, 'juan@ejemplo.com')]\n",
    "\n",
    "cursor.executemany(\"INSERT INTO usuarios VALUES (?,?,?,?)\", usuarios)\n",
    "\n",
    "conexion.commit()\n",
    "conexion.close()"
   ]
  },
  {
   "cell_type": "markdown",
   "metadata": {},
   "source": [
    "**Si ahora intentamos introducir un registro con un DNI duplicado, saltará un error:**"
   ]
  },
  {
   "cell_type": "code",
   "execution_count": 88,
   "metadata": {
    "collapsed": false
   },
   "outputs": [
    {
     "ename": "IntegrityError",
     "evalue": "UNIQUE constraint failed: usuarios.dni",
     "output_type": "error",
     "traceback": [
      "\u001b[1;31m---------------------------------------------------------------------------\u001b[0m",
      "\u001b[1;31mIntegrityError\u001b[0m                            Traceback (most recent call last)",
      "\u001b[1;32m<ipython-input-88-1f8a69b706db>\u001b[0m in \u001b[0;36m<module>\u001b[1;34m()\u001b[0m\n\u001b[0;32m      6\u001b[0m \u001b[1;33m\u001b[0m\u001b[0m\n\u001b[0;32m      7\u001b[0m \u001b[1;31m# Añadimos un usuario con el mismo DNI\u001b[0m\u001b[1;33m\u001b[0m\u001b[1;33m\u001b[0m\u001b[0m\n\u001b[1;32m----> 8\u001b[1;33m \u001b[0mcursor\u001b[0m\u001b[1;33m.\u001b[0m\u001b[0mexecute\u001b[0m\u001b[1;33m(\u001b[0m\u001b[1;34m\"INSERT INTO usuarios VALUES ('11111111A', 'Fernando', 31, 'fernando@ejemplo.com')\"\u001b[0m\u001b[1;33m)\u001b[0m\u001b[1;33m\u001b[0m\u001b[0m\n\u001b[0m\u001b[0;32m      9\u001b[0m \u001b[1;33m\u001b[0m\u001b[0m\n\u001b[0;32m     10\u001b[0m \u001b[0mconexion\u001b[0m\u001b[1;33m.\u001b[0m\u001b[0mcommit\u001b[0m\u001b[1;33m(\u001b[0m\u001b[1;33m)\u001b[0m\u001b[1;33m\u001b[0m\u001b[0m\n",
      "\u001b[1;31mIntegrityError\u001b[0m: UNIQUE constraint failed: usuarios.dni"
     ]
    }
   ],
   "source": [
    "import sqlite3\n",
    "\n",
    "conexion = sqlite3.connect('usuarios.db')\n",
    "\n",
    "cursor = conexion.cursor()\n",
    "\n",
    "# Añadimos un usuario con el mismo DNI\n",
    "cursor.execute(\"INSERT INTO usuarios VALUES ('11111111A', 'Fernando', 31, 'fernando@ejemplo.com')\")\n",
    "\n",
    "conexion.commit()\n",
    "conexion.close()"
   ]
  },
  {
   "cell_type": "markdown",
   "metadata": {},
   "source": [
    "# Campos autoincrementales\n",
    "No siempre contaremos con claves primarias en nuestras tablas (como el DNI), sin embargo siempre necesitaremos uno para identificar cada registro y poder consultarlo, modificarlo o borrarlo. \n",
    "\n",
    "Para estas situaciones lo más útil es utilizar campos autoincrementales, campos especiales que asignan automáticamente un número (de uno en uno) al crear un nuevo registro. Es muy útil para identificar de forma única cada registro ya que nunca se repiten.\n",
    "\n",
    "En SQLite, si indicamos que un campo numérico entero es una clave primaria, automáticamente se tomará como un campo auto incremental. Podemos hacerlo fácilmente así:"
   ]
  },
  {
   "cell_type": "code",
   "execution_count": 95,
   "metadata": {
    "collapsed": false
   },
   "outputs": [],
   "source": [
    "import sqlite3\n",
    "\n",
    "conexion = sqlite3.connect('productos.db')\n",
    "\n",
    "cursor = conexion.cursor()\n",
    "\n",
    "# Las cláusulas not null indican que no puede ser campos vacíos\n",
    "cursor.execute('''CREATE TABLE productos (\n",
    "                    id INTEGER PRIMARY KEY AUTOINCREMENT, \n",
    "                    nombre VARCHAR(100) NOT NULL, \n",
    "                    marca VARCHAR(50) NOT NULL, \n",
    "                    precio FLOAT NOT NULL)''')\n",
    "\n",
    "conexion.close()"
   ]
  },
  {
   "cell_type": "markdown",
   "metadata": {},
   "source": [
    "### ¡Problema al insertar registros con campos autoincrementales!\n",
    "Al utilizar un nuevo campo autoincremental, la sintaxis sencilla para insertar registros ya no funciona, pues en primer lugar se espera un identificador único, por lo que recibimos un error indicándonos se esperan 4 columnas en lugar de 3:"
   ]
  },
  {
   "cell_type": "code",
   "execution_count": 96,
   "metadata": {
    "collapsed": false
   },
   "outputs": [
    {
     "ename": "OperationalError",
     "evalue": "table productos has 4 columns but 3 values were supplied",
     "output_type": "error",
     "traceback": [
      "\u001b[1;31m---------------------------------------------------------------------------\u001b[0m",
      "\u001b[1;31mOperationalError\u001b[0m                          Traceback (most recent call last)",
      "\u001b[1;32m<ipython-input-96-7b99f15c4bb5>\u001b[0m in \u001b[0;36m<module>\u001b[1;34m()\u001b[0m\n\u001b[0;32m      8\u001b[0m              ('Pantalla 19\"' 'LG', 89.95),]\n\u001b[0;32m      9\u001b[0m \u001b[1;33m\u001b[0m\u001b[0m\n\u001b[1;32m---> 10\u001b[1;33m \u001b[0mcursor\u001b[0m\u001b[1;33m.\u001b[0m\u001b[0mexecutemany\u001b[0m\u001b[1;33m(\u001b[0m\u001b[1;34m\"INSERT INTO productos VALUES (?,?,?)\"\u001b[0m\u001b[1;33m,\u001b[0m \u001b[0mproductos\u001b[0m\u001b[1;33m)\u001b[0m\u001b[1;33m\u001b[0m\u001b[0m\n\u001b[0m\u001b[0;32m     11\u001b[0m \u001b[1;33m\u001b[0m\u001b[0m\n\u001b[0;32m     12\u001b[0m \u001b[0mconexion\u001b[0m\u001b[1;33m.\u001b[0m\u001b[0mcommit\u001b[0m\u001b[1;33m(\u001b[0m\u001b[1;33m)\u001b[0m\u001b[1;33m\u001b[0m\u001b[0m\n",
      "\u001b[1;31mOperationalError\u001b[0m: table productos has 4 columns but 3 values were supplied"
     ]
    }
   ],
   "source": [
    "import sqlite3\n",
    "\n",
    "conexion = sqlite3.connect('productos.db')\n",
    "\n",
    "cursor = conexion.cursor()\n",
    "\n",
    "productos = [('Teclado', 'Logitech', 19.95),\n",
    "             ('Pantalla 19\"' 'LG', 89.95),]\n",
    "\n",
    "cursor.executemany(\"INSERT INTO productos VALUES (?,?,?)\", productos)\n",
    "\n",
    "conexion.commit()\n",
    "conexion.close()"
   ]
  },
  {
   "cell_type": "markdown",
   "metadata": {},
   "source": [
    "**Para arreglarlo cambiaremos la notación durante la inserción, especificando el valor null para el auto incremento:**"
   ]
  },
  {
   "cell_type": "code",
   "execution_count": 97,
   "metadata": {
    "collapsed": false
   },
   "outputs": [],
   "source": [
    "import sqlite3\n",
    "\n",
    "conexion = sqlite3.connect('productos.db')\n",
    "\n",
    "cursor = conexion.cursor()\n",
    "\n",
    "productos = [('Teclado', 'Logitech', 19.95),\n",
    "             ('Pantalla 19\"','LG', 89.95),\n",
    "             ('Altavoces 2.1','LG', 24.95),]\n",
    "\n",
    "cursor.executemany(\"INSERT INTO productos VALUES (null,?,?,?)\", productos)\n",
    "\n",
    "conexion.commit()\n",
    "conexion.close()"
   ]
  },
  {
   "cell_type": "markdown",
   "metadata": {},
   "source": [
    "**Ahora podemos consultar nuestros productos fácilmente con su identificador único:**"
   ]
  },
  {
   "cell_type": "code",
   "execution_count": 98,
   "metadata": {
    "collapsed": false
   },
   "outputs": [
    {
     "name": "stdout",
     "output_type": "stream",
     "text": [
      "(1, 'Teclado', 'Logitech', 19.95)\n",
      "(2, 'Pantalla 19\"', 'LG', 89.95)\n",
      "(3, 'Altavoces 2.1', 'LG', 24.95)\n"
     ]
    }
   ],
   "source": [
    "import sqlite3\n",
    "\n",
    "conexion = sqlite3.connect('productos.db')\n",
    "cursor = conexion.cursor()\n",
    "\n",
    "# Recuperamos los registros de la tabla de usuarios\n",
    "cursor.execute(\"SELECT * FROM productos\")\n",
    "\n",
    "# Recorremos todos los registros con fetchall, y los volvamos en una lista de usuarios\n",
    "productos = cursor.fetchall()\n",
    "\n",
    "# Ahora podemos recorrer todos los productos\n",
    "for producto in productos:\n",
    "    print(producto)\n",
    "\n",
    "conexion.close()"
   ]
  },
  {
   "cell_type": "markdown",
   "metadata": {},
   "source": [
    "# Claves únicas\n",
    "El problema con las claves primarias es que sólo podemos tener un campo con esta propiedad, y si da la casualidad que utilizamos un campo autoincremental, ya no podemos asignarla a otro campo.\n",
    "\n",
    "Para estos casos existen las claves únicas, que nos permiten añadir otros campos únicos no repetibles.\n",
    "\n",
    "Podemos adaptar el ejemplo de los usuarios con un campo autoincremental que haga de clave primaria, y a su vez marcar el DNI como un campo único:"
   ]
  },
  {
   "cell_type": "code",
   "execution_count": 99,
   "metadata": {
    "collapsed": true
   },
   "outputs": [],
   "source": [
    "import sqlite3\n",
    "\n",
    "conexion = sqlite3.connect('usuarios_autoincremental.db')\n",
    "\n",
    "cursor = conexion.cursor()\n",
    "\n",
    "# Creamos un campo dni como clave primaria\n",
    "cursor.execute('''CREATE TABLE usuarios (\n",
    "                    id INTEGER PRIMARY KEY,\n",
    "                    dni VARCHAR(9) UNIQUE,\n",
    "                    nombre VARCHAR(100), \n",
    "                    edad INTEGER(3),\n",
    "                    email VARCHAR(100))''')\n",
    "\n",
    "usuarios = [('11111111A', 'Hector', 27, 'hector@ejemplo.com'),\n",
    "            ('22222222B', 'Mario', 51, 'mario@ejemplo.com'),\n",
    "            ('33333333C', 'Mercedes', 38, 'mercedes@ejemplo.com'),\n",
    "            ('44444444D', 'Juan', 19, 'juan@ejemplo.com')]\n",
    "\n",
    "cursor.executemany(\"INSERT INTO usuarios VALUES (null, ?,?,?,?)\", usuarios)\n",
    "\n",
    "conexion.commit()\n",
    "conexion.close()"
   ]
  },
  {
   "cell_type": "markdown",
   "metadata": {},
   "source": [
    "**Si intentamos añadir un usuario con la misma clave da error de integridad:**"
   ]
  },
  {
   "cell_type": "code",
   "execution_count": 100,
   "metadata": {
    "collapsed": false
   },
   "outputs": [
    {
     "ename": "IntegrityError",
     "evalue": "UNIQUE constraint failed: usuarios.dni",
     "output_type": "error",
     "traceback": [
      "\u001b[1;31m---------------------------------------------------------------------------\u001b[0m",
      "\u001b[1;31mIntegrityError\u001b[0m                            Traceback (most recent call last)",
      "\u001b[1;32m<ipython-input-100-fdd36d467cfc>\u001b[0m in \u001b[0;36m<module>\u001b[1;34m()\u001b[0m\n\u001b[0;32m      6\u001b[0m \u001b[1;33m\u001b[0m\u001b[0m\n\u001b[0;32m      7\u001b[0m \u001b[1;31m# Añadimos un usuario con el mismo DNI\u001b[0m\u001b[1;33m\u001b[0m\u001b[1;33m\u001b[0m\u001b[0m\n\u001b[1;32m----> 8\u001b[1;33m \u001b[0mcursor\u001b[0m\u001b[1;33m.\u001b[0m\u001b[0mexecute\u001b[0m\u001b[1;33m(\u001b[0m\u001b[1;34m\"INSERT INTO usuarios VALUES (null, '11111111A', 'Fernando', 31, 'fernando@ejemplo.com')\"\u001b[0m\u001b[1;33m)\u001b[0m\u001b[1;33m\u001b[0m\u001b[0m\n\u001b[0m\u001b[0;32m      9\u001b[0m \u001b[1;33m\u001b[0m\u001b[0m\n\u001b[0;32m     10\u001b[0m \u001b[0mconexion\u001b[0m\u001b[1;33m.\u001b[0m\u001b[0mcommit\u001b[0m\u001b[1;33m(\u001b[0m\u001b[1;33m)\u001b[0m\u001b[1;33m\u001b[0m\u001b[0m\n",
      "\u001b[1;31mIntegrityError\u001b[0m: UNIQUE constraint failed: usuarios.dni"
     ]
    }
   ],
   "source": [
    "import sqlite3\n",
    "\n",
    "conexion = sqlite3.connect('usuarios_autoincremental.db')\n",
    "\n",
    "cursor = conexion.cursor()\n",
    "\n",
    "# Añadimos un usuario con el mismo DNI\n",
    "cursor.execute(\"INSERT INTO usuarios VALUES (null, '11111111A', 'Fernando', 31, 'fernando@ejemplo.com')\")\n",
    "\n",
    "conexion.commit()\n",
    "conexion.close()"
   ]
  },
  {
   "cell_type": "markdown",
   "metadata": {},
   "source": [
    "**Con la ventaja de contar con un identificador automático para cada registro:**"
   ]
  },
  {
   "cell_type": "code",
   "execution_count": 102,
   "metadata": {
    "collapsed": false
   },
   "outputs": [
    {
     "name": "stdout",
     "output_type": "stream",
     "text": [
      "(1, '11111111A', 'Hector', 27, 'hector@ejemplo.com')\n",
      "(2, '22222222B', 'Mario', 51, 'mario@ejemplo.com')\n",
      "(3, '33333333C', 'Mercedes', 38, 'mercedes@ejemplo.com')\n",
      "(4, '44444444D', 'Juan', 19, 'juan@ejemplo.com')\n"
     ]
    }
   ],
   "source": [
    "import sqlite3\n",
    "\n",
    "conexion = sqlite3.connect('usuarios_autoincremental.db')\n",
    "cursor = conexion.cursor()\n",
    "\n",
    "# Recuperamos los registros de la tabla de usuarios\n",
    "cursor.execute(\"SELECT * FROM usuarios\")\n",
    "\n",
    "# Recorremos todos los registros con fetchall, y los volvamos en una lista de usuarios\n",
    "usuarios = cursor.fetchall()\n",
    "\n",
    "# Ahora podemos recorrer todos los usuarios\n",
    "for usuario in usuarios:\n",
    "    print(usuario)\n",
    "\n",
    "conexion.close()"
   ]
  },
  {
   "cell_type": "markdown",
   "metadata": {},
   "source": [
    "# Importancia de los identificadores únicos\n",
    "Es muy importante contar siempre con identificadores únicos para cada registro, ya que sin ellos nos sería prácticamente imposible editar y borrar campos de forma fácil. \n",
    "\n",
    "En la próxima lección haremos uso de las consultas UPDATE y DELETE junto a la cláusula WHERE para modificar y borrar registros gracias a los identificadores únicos, y otras propiedades."
   ]
  }
 ],
 "metadata": {
  "anaconda-cloud": {},
  "kernelspec": {
   "display_name": "Python [default]",
   "language": "python",
   "name": "python3"
  },
  "language_info": {
   "codemirror_mode": {
    "name": "ipython",
    "version": 3
   },
   "file_extension": ".py",
   "mimetype": "text/x-python",
   "name": "python",
   "nbconvert_exporter": "python",
   "pygments_lexer": "ipython3",
   "version": "3.5.2"
  }
 },
 "nbformat": 4,
 "nbformat_minor": 0
}
