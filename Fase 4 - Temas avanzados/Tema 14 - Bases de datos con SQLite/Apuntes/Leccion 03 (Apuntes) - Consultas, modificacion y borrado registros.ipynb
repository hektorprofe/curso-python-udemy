{
 "cells": [
  {
   "cell_type": "markdown",
   "metadata": {},
   "source": [
    "#### Nota: Estos ejemplos están indicados para hacerse en scripts de código Python, no en Jupyter"
   ]
  },
  {
   "cell_type": "markdown",
   "metadata": {},
   "source": [
    "# Consultando registros específicos\n",
    "Una vez contamos con algún campo que nos sirva de identificador único, podemos realizar consultas específicas utilizando la cláusula WHERE:"
   ]
  },
  {
   "cell_type": "code",
   "execution_count": 6,
   "metadata": {
    "collapsed": false
   },
   "outputs": [
    {
     "name": "stdout",
     "output_type": "stream",
     "text": [
      "(1, '11111111A', 'Hector', 27, 'hector@ejemplo.com')\n"
     ]
    }
   ],
   "source": [
    "import sqlite3\n",
    "\n",
    "conexion = sqlite3.connect('usuarios_autoincremental.db')\n",
    "cursor = conexion.cursor()\n",
    "\n",
    "# Recuperamos un registro de la tabla de usuarios\n",
    "cursor.execute(\"SELECT * FROM usuarios WHERE id=1\")\n",
    "\n",
    "usuario = cursor.fetchone()\n",
    "print(usuario)\n",
    "\n",
    "conexion.close()"
   ]
  },
  {
   "cell_type": "markdown",
   "metadata": {},
   "source": [
    "**También podemos buscar sólo algunos campos específicos utilizando el DNI:**"
   ]
  },
  {
   "cell_type": "code",
   "execution_count": 12,
   "metadata": {
    "collapsed": false
   },
   "outputs": [
    {
     "name": "stdout",
     "output_type": "stream",
     "text": [
      "('Mario', 51, 'mario@ejemplo.com')\n"
     ]
    }
   ],
   "source": [
    "import sqlite3\n",
    "\n",
    "conexion = sqlite3.connect('usuarios_autoincremental.db')\n",
    "cursor = conexion.cursor()\n",
    "\n",
    "# Recuperamos un registro de la tabla de usuarios\n",
    "cursor.execute(\"SELECT nombre, edad, email FROM usuarios WHERE dni='22222222B'\")\n",
    "\n",
    "usuario = cursor.fetchone()\n",
    "print(usuario)\n",
    "\n",
    "conexion.close()"
   ]
  },
  {
   "cell_type": "markdown",
   "metadata": {},
   "source": [
    "# Modificando registros específicos\n",
    "De forma similar al SELECT podemos utilizar la cláusula:\n",
    "\n",
    "```UPDATE tabla\n",
    "SET columna1 = valor1, columna2 = valor2...., columnaN = valorN\n",
    "WHERE [condicion]```"
   ]
  },
  {
   "cell_type": "code",
   "execution_count": 18,
   "metadata": {
    "collapsed": false
   },
   "outputs": [
    {
     "name": "stdout",
     "output_type": "stream",
     "text": [
      "(1, '11111111A', 'Hector Costa', 27, 'hector@ejemplo.com')\n"
     ]
    }
   ],
   "source": [
    "import sqlite3\n",
    "\n",
    "conexion = sqlite3.connect('usuarios_autoincremental.db')\n",
    "cursor = conexion.cursor()\n",
    "\n",
    "# Actualizamos un registro\n",
    "cursor.execute(\"UPDATE usuarios SET nombre='Hector Costa' WHERE dni='11111111A'\")\n",
    "\n",
    "# Ahora lo consultamos de nuevo\n",
    "cursor.execute(\"SELECT * FROM usuarios WHERE dni='11111111A'\")\n",
    "usuario = cursor.fetchone()\n",
    "print(usuario)\n",
    "\n",
    "conexion.commit()\n",
    "conexion.close()"
   ]
  },
  {
   "cell_type": "markdown",
   "metadata": {},
   "source": [
    "**Importantísimo: No olvidar la cláusula WHERE o podéis acabar actualizando todos los registros**"
   ]
  },
  {
   "cell_type": "markdown",
   "metadata": {},
   "source": [
    "# Borrando registros específicos\n",
    "Finalmente, para borrar un registro a partir de su id o campo único:\n",
    "\n",
    "```DELETE FROM tabla WHERE [condicion]```"
   ]
  },
  {
   "cell_type": "code",
   "execution_count": 24,
   "metadata": {
    "collapsed": false
   },
   "outputs": [
    {
     "name": "stdout",
     "output_type": "stream",
     "text": [
      "(1, '11111111A', 'Hector Costa', 27, 'hector@ejemplo.com')\n",
      "(2, '22222222B', 'Mario', 51, 'mario@ejemplo.com')\n",
      "(3, '33333333C', 'Mercedes', 38, 'mercedes@ejemplo.com')\n",
      "(4, '44444444D', 'Juan', 19, 'juan@ejemplo.com')\n",
      "(5, '55555555E', 'Fernando', 31, 'fernando@ejemplo.com')\n",
      "\n",
      "(1, '11111111A', 'Hector Costa', 27, 'hector@ejemplo.com')\n",
      "(2, '22222222B', 'Mario', 51, 'mario@ejemplo.com')\n",
      "(3, '33333333C', 'Mercedes', 38, 'mercedes@ejemplo.com')\n",
      "(4, '44444444D', 'Juan', 19, 'juan@ejemplo.com')\n"
     ]
    }
   ],
   "source": [
    "import sqlite3\n",
    "\n",
    "conexion = sqlite3.connect('usuarios_autoincremental.db')\n",
    "cursor = conexion.cursor()\n",
    "\n",
    "# Creamos un registro de prueba\n",
    "cursor.execute(\"INSERT INTO usuarios VALUES (null, '55555555E', 'Fernando', 31, 'fernando@ejemplo.com')\")\n",
    "\n",
    "# Consultamos los usuarios\n",
    "for usuario in cursor.execute(\"SELECT * FROM usuarios\"):\n",
    "    print(usuario)\n",
    "\n",
    "# Ahora lo borramos\n",
    "cursor.execute(\"DELETE FROM usuarios WHERE dni='55555555E'\")\n",
    "\n",
    "print() # Espacio en blanco\n",
    "\n",
    "# Consultamos de nuevo los usuarios\n",
    "for usuario in cursor.execute(\"SELECT * FROM usuarios\"):\n",
    "    print(usuario)\n",
    "\n",
    "conexion.commit()\n",
    "conexion.close()"
   ]
  },
  {
   "cell_type": "markdown",
   "metadata": {},
   "source": [
    "# No te olvides el WHERE\n",
    "En SQL es posible realizar actualizaciones y borrados en masa, pero las dos últimas son un poco peligrosas. Sin embargo realizarlas es tan sencillo como olvidarnos la cláusula WHERE en el UPDATE o el DELETE.\n",
    "\n",
    "**Canción: No te olvides el WHERE en el DELETE FROM**: https://www.youtube.com/watch?v=i_cVJgIz_Cs"
   ]
  },
  {
   "cell_type": "code",
   "execution_count": 29,
   "metadata": {
    "collapsed": false
   },
   "outputs": [
    {
     "name": "stdout",
     "output_type": "stream",
     "text": [
      "[]\n"
     ]
    }
   ],
   "source": [
    "import sqlite3\n",
    "\n",
    "conexion = sqlite3.connect('usuarios_autoincremental.db')\n",
    "cursor = conexion.cursor()\n",
    "\n",
    "# Borramos sin el WHERE\n",
    "cursor.execute(\"DELETE FROM usuarios\")\n",
    "\n",
    "# Consultamos de nuevo los usuarios\n",
    "usuarios = cursor.execute(\"SELECT * FROM usuarios\").fetchall()\n",
    "print(usuarios)\n",
    "\n",
    "conexion.commit()\n",
    "conexion.close()"
   ]
  },
  {
   "cell_type": "markdown",
   "metadata": {},
   "source": [
    "# Mucho más por aprender\n",
    "SQL es un lenguaje muy extenso con muchísimas posibilidades. Ya que esta unidad no deja de ser una introducción, te animo a seguir aprendiendo por tu cuenta conceptos tan importantes como:\n",
    "- **Consultas avanzadas**: or, and, like, join\n",
    "- **Funciones simples**: count, group by, distinct\n",
    "- **Funciones avanzadas**: sum, avg, min, max\n",
    "- **Manejo de fechas**: date, year, month, day\n",
    "- **Relaciones y claves foráneas**"
   ]
  }
 ],
 "metadata": {
  "anaconda-cloud": {},
  "kernelspec": {
   "display_name": "Python [default]",
   "language": "python",
   "name": "python3"
  },
  "language_info": {
   "codemirror_mode": {
    "name": "ipython",
    "version": 3
   },
   "file_extension": ".py",
   "mimetype": "text/x-python",
   "name": "python",
   "nbconvert_exporter": "python",
   "pygments_lexer": "ipython3",
   "version": "3.5.2"
  }
 },
 "nbformat": 4,
 "nbformat_minor": 0
}
