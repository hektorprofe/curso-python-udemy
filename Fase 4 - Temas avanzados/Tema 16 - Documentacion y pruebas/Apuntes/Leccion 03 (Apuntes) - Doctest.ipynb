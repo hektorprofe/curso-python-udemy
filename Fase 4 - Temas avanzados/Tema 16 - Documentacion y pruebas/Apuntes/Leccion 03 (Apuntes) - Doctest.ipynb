{
 "cells": [
  {
   "cell_type": "markdown",
   "metadata": {},
   "source": [
    "# Doctest\n",
    "\n",
    "Si por un lado las **docstrings** nos permitían describir documentación, los **doctest** nos permiten combinar pruebas en la propia documentación.\n",
    "\n",
    "Este concepto de integrar las pruebas en la documentación nos ayuda a mantener las pruebas actualizadas, y además nos sirve como ejemplo de utilización del código, ayudándonos a explicar su propósito.\n",
    "\n",
    "Para utilizar **doctests** hay que inidicar una línea dentro de la documentación de la siguiente forma:\n",
    "\n",
    "```python\n",
    ">>>\n",
    "```\n",
    "De esta Python entenderá que debe ejecutar el contenido dentro del comentario como si fuera código normal, y lo hará hasta que encuentre una línea en blanco (o llegue al final de la documentación).\n",
    "\n",
    "La mejor forma de ver a **doctest** en acción."
   ]
  },
  {
   "cell_type": "markdown",
   "metadata": {},
   "source": [
    "### Definiendo pruebas\n",
    "Por regla general cada prueba va ligada a una funcionalidad, pueden ser funciones, clases o sus métodos. Por ejemplo, dada una función **suma**..."
   ]
  },
  {
   "cell_type": "code",
   "execution_count": 2,
   "metadata": {
    "collapsed": true
   },
   "outputs": [],
   "source": [
    "def suma(a, b):\n",
    "    \"\"\"Esta función recibe dos parámetros y devuelve la suma de ambos\"\"\"\n",
    "    return a+b"
   ]
  },
  {
   "cell_type": "markdown",
   "metadata": {},
   "source": [
    "Para realizar una prueba dentro de la función, vamos a ejecutar un código de prueba de la propia suma:"
   ]
  },
  {
   "cell_type": "code",
   "execution_count": 4,
   "metadata": {
    "collapsed": true
   },
   "outputs": [],
   "source": [
    "def suma(a, b):\n",
    "    \"\"\"Esta función recibe dos parámetros y devuelve la suma de ambos\n",
    "    \n",
    "    >>> suma(5,10)\n",
    "    \"\"\"\n",
    "    return a+b"
   ]
  },
  {
   "cell_type": "markdown",
   "metadata": {},
   "source": [
    "Bien, ya tenemos la prueba, pero ahora nos falta indicarle a doctest cuál es el resultado que debería devolver la prueba, y eso lo indicaremos en la siguiente línea:\n",
    "\n",
    "```python\n",
    ">>>\n",
    "```"
   ]
  },
  {
   "cell_type": "code",
   "execution_count": 6,
   "metadata": {
    "collapsed": true
   },
   "outputs": [],
   "source": [
    "def suma(a, b):\n",
    "    \"\"\"Esta función recibe dos parámetros y devuelve la suma de ambos\n",
    "    \n",
    "    >>> suma(5,10)\n",
    "    15\n",
    "    \"\"\"\n",
    "    return a+b"
   ]
  },
  {
   "cell_type": "markdown",
   "metadata": {},
   "source": [
    "¡Muy bien! Ahora tenemos que ejecutar la pruebas y ver si funciona o no, pero antes tenemos que adaptar el código.\n",
    "\n",
    "### Ejecutando pruebas en un módulo\n",
    "\n",
    "Para ejecutar pruebas tendremos que utilizar la terminal, así vamos a guardar la función en un script **test.py** como si fuera un módulo con funciones.\n",
    "\n",
    "Ahora justo al final indicaremos que se ejecuten las pruebas doctest de las funciones del módulo escribiendo el siguiente código abajo del todo:\n",
    "\n",
    "```python\n",
    "import doctest\n",
    "doctest.testmod()  # Notar que mod significa módulo\n",
    "```\n",
    "Esto sería suficiente, pero con el objetivo de evitar que este código se ejecute al importarlo desde otro lugar, se suele indicar de la siguiente forma:\n",
    "\n",
    "```python\n",
    "if __name__ == \"__main__\":\n",
    "    import doctest\n",
    "    doctest.testmod()\n",
    "```\n",
    "\n",
    "Así únicamente se lanzarán las pruebas al ejecutar directamente el módulo, y ya podremos ejecutar el módulo desde la terminal:\n",
    "\n",
    "```bash\n",
    "python test.py\n",
    "```\n",
    "\n",
    "Como resultado veremos que no se muestra nada. Eso no significa que no se ejecute nuestra prueba, sino que esta ha funcionado correctamente y no hay fallos.\n",
    "\n",
    "Si queremos podemos mostrar todo el registro de ejecución pasando un argumento -v a python justo al final:\n",
    "\n",
    "```bash\n",
    "python test.py -v\n",
    "```\n",
    "\n",
    "Y entonces veremos el siguiente resultado:\n",
    "\n",
    "```bash\n",
    "Trying:\n",
    "    suma(5,10)\n",
    "Expecting:\n",
    "    15\n",
    "ok\n",
    "1 items had no tests:\n",
    "    __main__\n",
    "1 items passed all tests:\n",
    "   1 tests in __main__.suma\n",
    "1 tests in 2 items.\n",
    "1 passed and 0 failed.\n",
    "Test passed.\n",
    "```\n",
    "\n",
    "En el que se prueba el código suma(5,10), se espera 15 y el resultado es ok; un resumen y finalmente Test passed."
   ]
  },
  {
   "cell_type": "markdown",
   "metadata": {},
   "source": [
    "### Creando varias pruebas\n",
    "Evidentemente podemos definir múltiples pruebas. Probemos también alguna que sabemos que es incorrecta:\n"
   ]
  },
  {
   "cell_type": "code",
   "execution_count": null,
   "metadata": {
    "collapsed": true
   },
   "outputs": [],
   "source": [
    "def suma(a, b):\n",
    "    \"\"\"Esta función recibe dos parámetros y devuelve la suma de ambos\n",
    "    \n",
    "    >>> suma(5,10)\n",
    "    15\n",
    "    \n",
    "    >>> suma(0,0)\n",
    "    1\n",
    "    \n",
    "    >>> suma(-5,7)\n",
    "    2\n",
    "    \"\"\"\n",
    "    return a+b"
   ]
  },
  {
   "cell_type": "markdown",
   "metadata": {},
   "source": [
    "Ahora, si ejecutamos el script de forma normal...\n",
    "```bash\n",
    "python test.py\n",
    "```\n",
    "A diferencia que antes sí que nos muestra algo, indicándonos que uno de los tests a fallado:\n",
    "\n",
    "```bash\n",
    "**********************************************************************\n",
    "File \"test.py\", line 7, in __main__.suma\n",
    "Failed example:\n",
    "    suma(0,0)\n",
    "Expected:\n",
    "    1\n",
    "Got:\n",
    "    0\n",
    "**********************************************************************\n",
    "1 items had failures:\n",
    "   1 of   3 in __main__.suma\n",
    "***Test Failed*** 1 failures.\n",
    "```\n",
    "La cuestión ahora sería revisar el test si es incorrecto, o adaptar la función para que devuelve el resultado esperado en el test. Evidentemente en este caso hemos hecho un test incorrecto a propósito así que simplemente lo borraríamos."
   ]
  },
  {
   "cell_type": "markdown",
   "metadata": {},
   "source": [
    "### Pruebas para guiarnos en el desarrollo\n",
    "Una de las ventajas de usar tests es que podemos utilizarlos para detectar posibles fallas. En el siguiente ejemplo vamos a guiarnos de los tests para implementar correctamente una función."
   ]
  },
  {
   "cell_type": "code",
   "execution_count": 16,
   "metadata": {
    "collapsed": true
   },
   "outputs": [],
   "source": [
    "def palindromo(palabra):\n",
    "    \"\"\"Comprueba si una palabra es un palíndrimo, si lo es devuelve True y si no False\n",
    "    Los palíndromos son palabras o frases que se leen igual de izquierda a derecha que de derecha a izquierda.\n",
    "    \n",
    "    >>> palindromo(\"radar\")\n",
    "    True\n",
    "    \n",
    "    >>> palindromo(\"somos\")\n",
    "    True\n",
    "    \n",
    "    >>> palindromo(\"holah\")\n",
    "    False\n",
    "    \"\"\"\n",
    "    if palabra == palabra[::-1]: \n",
    "        return True\n",
    "    else:\n",
    "        return False"
   ]
  },
  {
   "cell_type": "markdown",
   "metadata": {},
   "source": [
    "Bien, ¿pero que ocurre si hacemos el siguiente test?\n",
    "```python\n",
    ">>> palindromo(\"Ana\")\n",
    "True\n",
    "```\n",
    "\n",
    "Pues que nos falla:\n",
    "\n",
    "```bash\n",
    "**********************************************************************\n",
    "File \"test.py\", line 11, in __main__.palindromo\n",
    "Failed example:\n",
    "    palindromo(\"Ana\")\n",
    "Expected:\n",
    "    True\n",
    "Got:\n",
    "    False\n",
    "**********************************************************************\n",
    "1 items had failures:\n",
    "   1 of   3 in __main__.palindromo\n",
    "***Test Failed*** 1 failures.\n",
    "```\n",
    "\n",
    "Claro, es que Ana empieza por mayúscula, pero hay que recordar que un palíndrimo lo es si se pronuncia igual, por tanto las mayúsculas no debes afectar. En este caso por tanto tendríamos que readaptar nuestro código para prevenir el error:"
   ]
  },
  {
   "cell_type": "code",
   "execution_count": 18,
   "metadata": {
    "collapsed": true
   },
   "outputs": [],
   "source": [
    "def palindromo(palabra):\n",
    "    \"\"\"Comprueba si una palabra es un palíndrimo, si lo es devuelve True y si no False\n",
    "    Los palíndromos son palabras o frases que se leen igual de izquierda a derecha que de derecha a izquierda.\n",
    "    \n",
    "    >>> palindromo(\"radar\")\n",
    "    True\n",
    "    \n",
    "    >>> palindromo(\"somos\")\n",
    "    True\n",
    "    \n",
    "    >>> palindromo(\"holah\")\n",
    "    False\n",
    "    \n",
    "    >>> palindromo(\"Ana\")\n",
    "    True\n",
    "    \"\"\"\n",
    "    if palabra.lower() == palabra[::-1].lower(): \n",
    "        return True\n",
    "    else:\n",
    "        return False"
   ]
  },
  {
   "cell_type": "markdown",
   "metadata": {},
   "source": [
    "Y en el test de la frase... ¿\"Atar a la rata\"? Esto también es un palíndromo:\n",
    "```python\n",
    ">>> palindromo(\"Atar a la rata\")\n",
    "True\n",
    "```"
   ]
  },
  {
   "cell_type": "markdown",
   "metadata": {},
   "source": [
    "```bash\n",
    "**********************************************************************\n",
    "Failed example:\n",
    "    palindromo(\"Atar a la rata\")\n",
    "Expected:\n",
    "    True\n",
    "Got:\n",
    "    False\n",
    "**********************************************************************\n",
    "1 items had failures:\n",
    "   1 of   4 in __main__.palindromo\n",
    "***Test Failed*** 1 failures.\n",
    "```\n",
    "\n",
    "¡Nos falla de nuevo! El problema en este caso son los espacios, ya que estos no se leen pero si existen en la cadena, la frase no concuerda."
   ]
  },
  {
   "cell_type": "code",
   "execution_count": 19,
   "metadata": {
    "collapsed": true
   },
   "outputs": [],
   "source": [
    "def palindromo(palabra):\n",
    "    \"\"\"Comprueba si una palabra es un palíndrimo, si lo es devuelve True y si no False\n",
    "    Los palíndromos son palabras o frases que se leen igual de izquierda a derecha que de derecha a izquierda.\n",
    "    \n",
    "    >>> palindromo(\"radar\")\n",
    "    True\n",
    "    \n",
    "    >>> palindromo(\"somos\")\n",
    "    True\n",
    "    \n",
    "    >>> palindromo(\"holah\")\n",
    "    False\n",
    "\n",
    "    >>> palindromo(\"Atar a la rata\")\n",
    "    True\n",
    "    \"\"\"\n",
    "    if palabra.lower().replace(\" \", \"\") == palabra[::-1].lower().replace(\" \", \"\"): \n",
    "        return True\n",
    "    else:\n",
    "        return False"
   ]
  },
  {
   "cell_type": "markdown",
   "metadata": {
    "collapsed": true
   },
   "source": [
    "Todavía habría algunos casos como los acentos que nos darían fallos, pero ya véis por donde va la lógica. Se trata de guiarnos a partir de los tests para crear la función correctamente.\n",
    "\n",
    "De hecho en el mundo de la programación hay una práctica conocida como TDD, **Test Driven Development** o **Desarrollo guiado por pruebas** que trata de escribir las pruebas primero y luego refactorizar para ir puliendo la funcionalidad.\n",
    "\n",
    "Es una práctica algo avanzada y no la veremos en este curso, pero vale la pena comentarla."
   ]
  },
  {
   "cell_type": "markdown",
   "metadata": {},
   "source": [
    "## Tests avanzados\n",
    "Hasta ahora hemos hecho unos tests muy simples, pero los **doctests** son muy flexibles. Algunas de sus funcionalidades interesantes son la posibilidad de ejecutar bloques de código o la captura de excepciones.\n",
    "\n",
    "Para crear un test que incluya un bloque de código, debemos utilizar las sentencias anidadas para simular tabulaciones:\n",
    "\n",
    "```python\n",
    "...\n",
    "```"
   ]
  },
  {
   "cell_type": "code",
   "execution_count": 26,
   "metadata": {},
   "outputs": [],
   "source": [
    "def doblar(lista):\n",
    "    \"\"\"Dobla el valor de los elementos de una lista\n",
    "    >>> l = [1, 2, 3, 4, 5] \n",
    "    >>> doblar(l)\n",
    "    [2, 4, 6, 8, 10]\n",
    "    \"\"\"\n",
    "    return [n*2 for n in lista]"
   ]
  },
  {
   "cell_type": "markdown",
   "metadata": {},
   "source": [
    "En este caso hemos creado la lista del test manualmente, pero podríamos generarla con un bucle utilizando sentencias anidadas:"
   ]
  },
  {
   "cell_type": "code",
   "execution_count": 25,
   "metadata": {
    "collapsed": true
   },
   "outputs": [],
   "source": [
    "def doblar(lista):\n",
    "    \"\"\"Dobla el valor de los elementos de una lista\n",
    "    >>> l = [1, 2, 3, 4, 5] \n",
    "    >>> doblar(l)\n",
    "    [2, 4, 6, 8, 10]\n",
    "\n",
    "    >>> l = [] \n",
    "    >>> for i in range(10):\n",
    "    ...     l.append(i)\n",
    "    >>> doblar(l)\n",
    "    [0, 2, 4, 6, 8, 10, 12, 14, 16, 18]\n",
    "    \"\"\"\n",
    "    return [n*2 for n in lista]"
   ]
  },
  {
   "cell_type": "markdown",
   "metadata": {},
   "source": [
    "Si ejecutamos el script monitorizando todo:\n",
    "```bash\n",
    "python test.py -v\n",
    "```\n",
    "Podemos observar la ejecución del test avanzado:\n",
    "```bash\n",
    "Trying:\n",
    "    l = [1, 2, 3, 4, 5]\n",
    "Expecting nothing\n",
    "ok\n",
    "Trying:\n",
    "    doblar(l)\n",
    "Expecting:\n",
    "    [2, 4, 6, 8, 10]\n",
    "ok\n",
    "Trying:\n",
    "    l = []\n",
    "Expecting nothing\n",
    "ok\n",
    "Trying:\n",
    "    for i in range(10):\n",
    "        l.append(i)\n",
    "Expecting nothing\n",
    "ok\n",
    "Trying:\n",
    "    doblar(l)\n",
    "Expecting:\n",
    "    [0, 2, 4, 6, 8, 10, 12, 14, 16, 18]\n",
    "ok\n",
    "1 items had no tests:\n",
    "    __main__\n",
    "1 items passed all tests:\n",
    "   5 tests in __main__.doblar\n",
    "5 tests in 2 items.\n",
    "5 passed and 0 failed.\n",
    "Test passed.\n",
    "```\n"
   ]
  },
  {
   "cell_type": "markdown",
   "metadata": {},
   "source": [
    "Por último vamos a volver a nuestra función suma para tratar excepciones dentro de los tests."
   ]
  },
  {
   "cell_type": "code",
   "execution_count": 29,
   "metadata": {
    "collapsed": true
   },
   "outputs": [],
   "source": [
    "def suma(a, b):\n",
    "    \"\"\"Esta función recibe dos parámetros y devuelve la suma de ambos\n",
    "    \n",
    "    Pueden ser números:\n",
    "    \n",
    "    >>> suma(5,10)\n",
    "    15\n",
    "    \n",
    "    >>> suma(-5,7)\n",
    "    2\n",
    "    \n",
    "    Cadenas de texto:\n",
    "    \n",
    "    >>> suma('aa','bb')\n",
    "    'aabb'\n",
    "    \n",
    "    O listas:\n",
    "    \n",
    "    >>> a = [1, 2, 3]\n",
    "    >>> b = [4, 5, 6]\n",
    "    >>> suma(a,b)\n",
    "    [1, 2, 3, 4, 5, 6]\n",
    "    \"\"\"\n",
    "    return a+b"
   ]
  },
  {
   "cell_type": "markdown",
   "metadata": {},
   "source": [
    "Ahora sabemos que no podemos sumar tipos distintos, ¿cómo podemos tenerlo en cuenta en un test?\n",
    "\n",
    "Pues por ahora podemos suponer un resultado y comprobar el resultado cuando falle:"
   ]
  },
  {
   "cell_type": "markdown",
   "metadata": {},
   "source": [
    "```python\n",
    ">>> suma(10,\"hola\")\n",
    "\"10hola\"\n",
    "```"
   ]
  },
  {
   "cell_type": "code",
   "execution_count": 33,
   "metadata": {
    "collapsed": true
   },
   "outputs": [],
   "source": [
    "def suma(a, b):\n",
    "    \"\"\"Esta función recibe dos parámetros y devuelve la suma de ambos\n",
    "    \n",
    "    Pueden ser números:\n",
    "    \n",
    "    >>> suma(5,10)\n",
    "    15\n",
    "    \n",
    "    >>> suma(-5,7)\n",
    "    2\n",
    "    \n",
    "    Cadenas de texto:\n",
    "    \n",
    "    >>> suma('aa','bb')\n",
    "    'aabb'\n",
    "    \n",
    "    O listas:\n",
    "    \n",
    "    >>> a = [1, 2, 3]\n",
    "    >>> b = [4, 5, 6]\n",
    "    >>> suma(a,b)\n",
    "    [1, 2, 3, 4, 5, 6]\n",
    "    \n",
    "    Sin embargo no podemos sumar elementos de tipos diferentes:\n",
    "    \n",
    "    >>> suma(10,\"hola\")\n",
    "    \"10hola\"\n",
    "    \"\"\"\n",
    "    return a+b"
   ]
  },
  {
   "cell_type": "markdown",
   "metadata": {},
   "source": [
    "Si ejecutamos el script monitorizando todo:\n",
    "```bash\n",
    "python test.py -v\n",
    "```\n",
    "Podemos observar el fallo:\n",
    "```bash\n",
    "Trying:\n",
    "    suma(5,10)\n",
    "Expecting:\n",
    "    15\n",
    "ok\n",
    "Trying:\n",
    "    suma(-5,7)\n",
    "Expecting:\n",
    "    2\n",
    "ok\n",
    "Trying:\n",
    "    suma('aa','bb')\n",
    "Expecting:\n",
    "    'aabb'\n",
    "ok\n",
    "Trying:\n",
    "    a = [1, 2, 3]\n",
    "Expecting nothing\n",
    "ok\n",
    "Trying:\n",
    "    b = [4, 5, 6]\n",
    "Expecting nothing\n",
    "ok\n",
    "Trying:\n",
    "    suma(a,b)\n",
    "Expecting:\n",
    "    [1, 2, 3, 4, 5, 6]\n",
    "ok\n",
    "Trying:\n",
    "    suma(10,\"hola\")\n",
    "Expecting:\n",
    "    \"10hola\"\n",
    "**********************************************************************\n",
    "File \"test.py\", line 26, in __main__.suma\n",
    "Failed example:\n",
    "    suma(10,\"hola\")\n",
    "Exception raised:\n",
    "    Traceback (most recent call last):\n",
    "      File \"C:\\Program Files\\Anaconda3\\lib\\doctest.py\", line 1321, in __run\n",
    "        compileflags, 1), test.globs)\n",
    "      File \"<doctest __main__.suma[6]>\", line 1, in <module>\n",
    "        suma(10,\"hola\")\n",
    "      File \"test.py\", line 29, in suma\n",
    "        return a+b\n",
    "    TypeError: unsupported operand type(s) for +: 'int' and 'str'\n",
    "1 items had no tests:\n",
    "    __main__\n",
    "**********************************************************************\n",
    "1 items had failures:\n",
    "   1 of   7 in __main__.suma\n",
    "7 tests in 2 items.\n",
    "6 passed and 1 failed.\n",
    "***Test Failed*** 1 failures.\n",
    "```\n",
    "Concretamente debemos fijarnos en la primera línea y última de la excepción:\n",
    "```bash\n",
    "    Traceback (most recent call last):\n",
    "        ...\n",
    "    TypeError: unsupported operand type(s) for +: 'int' and 'str'\n",
    "```\n",
    "\n",
    "Y precisamente esto es lo que tenemos que indicar en el test:"
   ]
  },
  {
   "cell_type": "code",
   "execution_count": 36,
   "metadata": {
    "collapsed": true
   },
   "outputs": [],
   "source": [
    "def suma(a, b):\n",
    "    \"\"\"Esta función recibe dos parámetros y devuelve la suma de ambos\n",
    "    \n",
    "    Pueden ser números:\n",
    "    \n",
    "    >>> suma(5,10)\n",
    "    15\n",
    "    \n",
    "    >>> suma(-5,7)\n",
    "    2\n",
    "    \n",
    "    Cadenas de texto:\n",
    "    \n",
    "    >>> suma('aa','bb')\n",
    "    'aabb'\n",
    "    \n",
    "    O listas:\n",
    "    \n",
    "    >>> a = [1, 2, 3]\n",
    "    >>> b = [4, 5, 6]\n",
    "    >>> suma(a,b)\n",
    "    [1, 2, 3, 4, 5, 6]\n",
    "    \n",
    "    Sin embargo no podemos sumar elementos de tipos diferentes:\n",
    "    \n",
    "    >>> suma(10,\"hola\")\n",
    "    Traceback (most recent call last):\n",
    "        ...\n",
    "    TypeError: unsupported operand type(s) for +: 'int' and 'str'\n",
    "    \"\"\"\n",
    "    return a+b"
   ]
  },
  {
   "cell_type": "markdown",
   "metadata": {},
   "source": [
    "Y con esto acabamos esta lección en la que hemos visto como crear tests sencillos en la documentación con **doctest**. En la siguiente veremos un tipo distinto de tests más avanzados, los tests unitarios o **Unittest**."
   ]
  }
 ],
 "metadata": {
  "anaconda-cloud": {},
  "kernelspec": {
   "display_name": "Python 3",
   "language": "python",
   "name": "python3"
  },
  "language_info": {
   "codemirror_mode": {
    "name": "ipython",
    "version": 3
   },
   "file_extension": ".py",
   "mimetype": "text/x-python",
   "name": "python",
   "nbconvert_exporter": "python",
   "pygments_lexer": "ipython3",
   "version": "3.7.4"
  }
 },
 "nbformat": 4,
 "nbformat_minor": 1
}
