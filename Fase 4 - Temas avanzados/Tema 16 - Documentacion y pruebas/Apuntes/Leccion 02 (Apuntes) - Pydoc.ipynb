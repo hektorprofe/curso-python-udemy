{
 "cells": [
  {
   "cell_type": "markdown",
   "metadata": {},
   "source": [
    "# Pydoc\n",
    "\n",
    "En la lección anterior aprendimos que utilizando la función **help** podemos mostrar información formateada por la consola. Pues en realidad esta función hace uso del módulo **pydoc** para generar la documentación a partir de sus *docstrings*.\n",
    "\n",
    "Desde la terminal no podemos utilizar la función *help*, pero sí existe la posibilidad de utilizar **pydoc** de forma similar.\n",
    "\n",
    "Por ejemplo podemos consultar la documentación de scripts, módulos y clases utilizando la sintaxis:\n",
    "\n",
    "```bash\n",
    "pydoc nombre.py\n",
    "```\n",
    "\n",
    "También podemos utilizar la misma sintaxis para los paquetes:\n",
    "\n",
    "```bash\n",
    "pydoc nombre_paquete\n",
    "```\n",
    "\n",
    "## Documentación en HTML\n",
    "\n",
    "Una función interesante de Pydoc es que podemos generar la documentación de nuestro código utilizando la siguiente sintaxis:\n",
    "\n",
    "```bash\n",
    "pydoc -w nombre.py\n",
    "```\n",
    "\n",
    "Si tenemos un paquete podemos generar toda la documentación de forma recursiva de la siguiente forma estando en el directorio del paquete:\n",
    "\n",
    "```bash\n",
    "pydoc -w .\\\n",
    "```\n",
    "\n",
    "Esto generará toda la documentación del paquete, subpaquete, clases, métodos y funciones. Está bien para publicarla en Internet, pero también podemos consultarla directamente en local lanzando un servidor temporal, desde el directorio del paquete:\n",
    "\n",
    "```bash\n",
    "pydoc -p 8000\n",
    "```\n",
    "\n",
    "Aunque esto mostrará la documentación general de Python en ese momento, a parte de nuestro módulo."
   ]
  },
  {
   "cell_type": "markdown",
   "metadata": {},
   "source": [
    "Existen otras alternativas más bonitas para generar documentación, como los módulos **Epydoc** o **Sphinx**, pero al ser externos a Python no los trataremos en este curso."
   ]
  }
 ],
 "metadata": {
  "anaconda-cloud": {},
  "kernelspec": {
   "display_name": "Python 3",
   "language": "python",
   "name": "python3"
  },
  "language_info": {
   "codemirror_mode": {
    "name": "ipython",
    "version": 3
   },
   "file_extension": ".py",
   "mimetype": "text/x-python",
   "name": "python",
   "nbconvert_exporter": "python",
   "pygments_lexer": "ipython3",
   "version": "3.7.4"
  }
 },
 "nbformat": 4,
 "nbformat_minor": 1
}
